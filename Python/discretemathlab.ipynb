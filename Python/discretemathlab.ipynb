{
 "cells": [
  {
   "cell_type": "code",
   "execution_count": null,
   "metadata": {},
   "outputs": [],
   "source": []
  },
  {
   "cell_type": "code",
   "execution_count": 1,
   "metadata": {},
   "outputs": [
    {
     "name": "stdout",
     "output_type": "stream",
     "text": [
      "[1, 1]\n"
     ]
    }
   ],
   "source": [
    "#coversion of decimal number to binary\n",
    "number =3\n",
    "def binary_bin(number):\n",
    "    bin=[]\n",
    "    while number!=0:\n",
    "        bin.append(number%2)\n",
    "        number = number//2\n",
    "    bin.reverse()\n",
    "    return bin\n",
    "print(binary_bin(number))"
   ]
  },
  {
   "cell_type": "code",
   "execution_count": 4,
   "metadata": {},
   "outputs": [
    {
     "name": "stdout",
     "output_type": "stream",
     "text": [
      "52\n",
      "52\n",
      "52\n"
     ]
    }
   ],
   "source": [
    "#conversion of binary to decimal\n",
    "number = [1,1,0,1,0,0]\n",
    "\n",
    "def decimal_dec(number):\n",
    "    bin =0\n",
    "    number.reverse()\n",
    "    for x, i in enumerate(number):\n",
    "        bin = bin + i*2**x\n",
    "    return bin\n",
    "\n",
    "print(decimal_dec(number))\n",
    "\n",
    "#does the same as the func above\n",
    "x= [1,1,0,1,0,0]\n",
    "\n",
    "def b(x):\n",
    "    s=0\n",
    "    c=0\n",
    "    for i in x[::-1]:\n",
    "        s+=i*2**c\n",
    "        c+=1\n",
    "    return s\n",
    "print(b(x))\n",
    "\n",
    "#does the same as the two before\n",
    "arr =[1,1,0,1,0,0]\n",
    "def fun(arr):\n",
    "    f = 0\n",
    "    while len(arr)!=0:\n",
    "        t = arr.pop(0)\n",
    "        f+=t*2**(len(arr))\n",
    "    return f\n",
    "print(fun(arr))"
   ]
  },
  {
   "cell_type": "code",
   "execution_count": null,
   "metadata": {},
   "outputs": [],
   "source": [
    "#no dublicates in set\n",
    "#sets are equal if the same elements are in different place\n",
    "s1 = {1,2,3}\n",
    "s2 = {5,7,9}\n",
    "s3 = {2,3,4}\n",
    "(union):\n",
    "(intersection): #we take only the things both of the sets have\n",
    "(difference):  #substract s1 - s3, s3 stays the same while s1 is being modified, leaving s1 = {1} and s3 = {2,3,4}\n",
    "#if we substract s1-s2 nothing happens as they dont have any common element\n",
    "s1.symmetric_difference(s2) #its xor\n",
    "#if they are the same we dont print in the result, if different we add to the result\n",
    "s1 xor s3= {1,4}\n",
    "s1 = {1,2,3}\n",
    "s1.add(4) #like append for arrays\n",
    "s1.remove(3) #just remove"
   ]
  },
  {
   "cell_type": "code",
   "execution_count": 2,
   "metadata": {},
   "outputs": [
    {
     "name": "stdout",
     "output_type": "stream",
     "text": [
      "Union:  {1, 2, 3, 4, 5, 6}\n",
      "Intersection:  {3, 4}\n",
      "difference:  {5, 6}\n",
      "Symmetric difference {1, 2, 5, 6}\n",
      "{1, 2, 3, 4, 5}\n",
      "{1, 2, 3, 4}\n"
     ]
    }
   ],
   "source": [
    "s = {1,2,3,4}\n",
    "s1= {3,4,5,6}\n",
    "\n",
    "s2=  s.union(s1)\n",
    "print(\"Union: \",s2)\n",
    "\n",
    "s3 = s.intersection(s1)\n",
    "print(\"Intersection: \" ,s3)\n",
    "\n",
    "s4 = s1-s\n",
    "print(\"difference: \",s4)\n",
    "\n",
    "print(\"Symmetric difference\" ,s.symmetric_difference(s1))\n",
    "\n",
    "\n",
    "s.add(5)\n",
    "print(s)\n",
    "s.remove(5)\n",
    "print(s)\n"
   ]
  },
  {
   "cell_type": "code",
   "execution_count": 3,
   "metadata": {},
   "outputs": [
    {
     "name": "stdout",
     "output_type": "stream",
     "text": [
      "Duplicate: 2 Lost number:  9\n",
      "2 9\n"
     ]
    }
   ],
   "source": [
    "nums = [1,4,2,5,7,3,2,6,8]\n",
    "d = 0\n",
    "d1= 0\n",
    "u = 0\n",
    "for x,i in enumerate(nums):\n",
    "    u = u+x+1\n",
    "    d+=i\n",
    "for y in set(nums):\n",
    "    d1+=y\n",
    "print(\"Duplicate:\",d-d1,\"Lost number: \", u-d1)\n",
    "\n",
    "s = set(nums)\n",
    "duplicate = sum(nums) - sum(s)\n",
    "loss = (len(nums)*(len(nums) + 1))//2\n",
    "print(duplicate,loss - sum(s))\n",
    "        "
   ]
  },
  {
   "cell_type": "code",
   "execution_count": 1,
   "metadata": {},
   "outputs": [
    {
     "name": "stdout",
     "output_type": "stream",
     "text": [
      "[1, 1, 1, 0, 0, 0]\n"
     ]
    }
   ],
   "source": [
    "a = '1011'\n",
    "b = '101101'\n",
    "ar = []\n",
    "br = []\n",
    "arr = []\n",
    "for i in a[::-1]:\n",
    "    ar.append(i)\n",
    "for i in b[::-1]:\n",
    "    br.append(i)\n",
    "\n",
    "if len(ar)>len(br):\n",
    "    minus = len(ar)-len(br)\n",
    "    for i in range(minus):\n",
    "        br.append(0)\n",
    "else:\n",
    "    minus = len(br)-len(ar)\n",
    "    for i in range(minus):\n",
    "        ar.append(0)\n",
    "\n",
    "karman = 0\n",
    "for i, x in zip(ar,br):\n",
    "    i = int(i)\n",
    "    x = int(x)\n",
    "    if i == x and i ==1:\n",
    "        if karman == 1:\n",
    "            arr.append(1)\n",
    "        else:\n",
    "            arr.append(0)\n",
    "            karman +=1\n",
    "    elif i==1 or x ==1:\n",
    "        if karman==1:\n",
    "            arr.append(0)\n",
    "        else:\n",
    "            arr.append(1)\n",
    "    elif i == 0 and x ==0:\n",
    "        if karman==1:\n",
    "            arr.append(1)\n",
    "            karman-=1\n",
    "        else:\n",
    "            arr.append(0)\n",
    "if karman ==1:\n",
    "    arr.append(1)\n",
    "arr.reverse()\n",
    "\n",
    "print(arr)"
   ]
  },
  {
   "cell_type": "code",
   "execution_count": 21,
   "metadata": {},
   "outputs": [
    {
     "name": "stdout",
     "output_type": "stream",
     "text": [
      "The count:  165 \n",
      "The probability:  0.165\n",
      "{2: 0.0313, 3: 0.054, 4: 0.0824, 5: 0.1091, 6: 0.1369, 7: 0.1686, 8: 0.1392, 9: 0.1115, 10: 0.0859, 11: 0.0549, 12: 0.0262}\n"
     ]
    }
   ],
   "source": [
    "import random \n",
    "counter = 0\n",
    "for i in range(1000):\n",
    "    a = random.randint(1,6)\n",
    "    b = random.randint(1,6)\n",
    "    if a+b == 7:\n",
    "        counter += 1\n",
    "\n",
    "print(\"The count: \", counter, \"\\nThe probability: \", counter/1000)\n",
    "\n",
    "ar = {2:0, 3:0, 4:0, 5:0, 6:0, 7:0, 8:0, 9:0, 10:0, 11:0, 12:0}\n",
    "for i in range(10000):\n",
    "    a = random.randint(1,6)\n",
    "    b = random.randint(1,6)\n",
    "    for u in ar:\n",
    "        if u == a+b:\n",
    "            ar[u] +=1\n",
    "for i in ar:\n",
    "    ar[i] = ar[i]/10000\n",
    "\n",
    "print(ar)\n",
    "    "
   ]
  },
  {
   "cell_type": "code",
   "execution_count": 1,
   "metadata": {},
   "outputs": [
    {
     "name": "stdout",
     "output_type": "stream",
     "text": [
      "[1, 2, 4, 5, 7, 8, 10, 30, 31, 40]\n"
     ]
    }
   ],
   "source": [
    "arr = [1,4,5,10]\n",
    "arr1 = [2,7,8,30,31,40]\n",
    "arr2=[]\n",
    "i, j = 0, 0\n",
    "a, m = len(arr), len(arr1)\n",
    "while i < a and j < m:\n",
    "    if arr[i] < arr1[j]:\n",
    "        arr2.append(arr[i])\n",
    "        i += 1\n",
    "    else:\n",
    "        arr2.append(arr1[j])\n",
    "        j += 1\n",
    "\n",
    "while i<a:\n",
    "    arr2.append(arr[i])\n",
    "    i+=1\n",
    "while j<m:\n",
    "    arr2.append(arr1[j])\n",
    "    j+=1\n",
    "print(arr2)\n"
   ]
  },
  {
   "cell_type": "code",
   "execution_count": 10,
   "metadata": {},
   "outputs": [
    {
     "name": "stdout",
     "output_type": "stream",
     "text": [
      "0.1123\n",
      "0.0953\n"
     ]
    }
   ],
   "source": [
    "import random\n",
    "count = 0\n",
    "for i in range(10000):\n",
    "    balls = {\"red\":3, \"blue\": 5, \"green\": 7}\n",
    "    f = random.randint(0,2)\n",
    "    if f == 1:\n",
    "        balls['blue']-=1\n",
    "    d = random.randint(0,2)\n",
    "    if f == 1 and d ==1:\n",
    "        count +=1\n",
    "count = count/10000\n",
    "print(count)\n",
    "\n",
    "c = 0\n",
    "for i in range(10000):\n",
    "    balls = ['red', 'red', 'red', 'blue', 'blue', 'blue', 'blue', 'blue', 'green', 'green', 'green', 'green', 'green', 'green', 'green']\n",
    "    random.shuffle(balls)\n",
    "    ind = random.randint(0,len(balls)-1)\n",
    "    ab = balls[ind]\n",
    "    balls.pop(ind)\n",
    "    bb = balls[random.randint(0,len(balls)-1)]\n",
    "    if ab =='blue' and bb == 'blue':\n",
    "        c+=1\n",
    "print(c/10000)\n",
    "    \n",
    "    "
   ]
  },
  {
   "cell_type": "code",
   "execution_count": 19,
   "metadata": {},
   "outputs": [
    {
     "name": "stdout",
     "output_type": "stream",
     "text": [
      "[4, 10, 8, 0, 1, 5, 9, 3]\n",
      "[0, 4, 8, 10, 1, 3, 5, 9]\n"
     ]
    }
   ],
   "source": [
    "arr = [1,3,4,10,8,5,9,0]\n",
    "a = 0\n",
    "for i,x in enumerate(arr):\n",
    "    if x%2 == 0:\n",
    "        arr[i] = arr[a]\n",
    "        arr[a] = x\n",
    "        a+=1\n",
    "print(arr)\n",
    "# ar, br = arr[:a], arr[a:]\n",
    "# ar.sort()\n",
    "# br.sort()\n",
    "# print(ar+br)"
   ]
  },
  {
   "cell_type": "code",
   "execution_count": 2,
   "metadata": {},
   "outputs": [
    {
     "name": "stdout",
     "output_type": "stream",
     "text": [
      "4\n"
     ]
    }
   ],
   "source": [
    "d = {\"I\": 1, \"V\": 5, \"X\":10, \"L\": 50, \"C\":100, \"D\":500, \"M\":1000}\n",
    "a = \"IV\"\n",
    "c = 0\n",
    "for x, i in enumerate(a):\n",
    "    f = x+1\n",
    "    if f==len(a):\n",
    "        f = x\n",
    "    if (i == \"I\" or i ==\"X\" or i ==\"C\") and (d[i] < d[a[f]]):\n",
    "        c -= d[i]\n",
    "    else:\n",
    "        c += d[i]\n",
    "print(c)"
   ]
  },
  {
   "cell_type": "code",
   "execution_count": 63,
   "metadata": {},
   "outputs": [
    {
     "name": "stdout",
     "output_type": "stream",
     "text": [
      "200 5204\n"
     ]
    }
   ],
   "source": [
    "money = 100\n",
    "target = 200\n",
    "c = 0\n",
    "while money<target:\n",
    "    x = random.random()\n",
    "    c+=1\n",
    "    money-=1\n",
    "    if x>0.5:\n",
    "        money+=2\n",
    "    if money<=0:\n",
    "        break\n",
    "print(money,c)"
   ]
  },
  {
   "cell_type": "code",
   "execution_count": 24,
   "metadata": {},
   "outputs": [
    {
     "name": "stdout",
     "output_type": "stream",
     "text": [
      "476 524\n"
     ]
    }
   ],
   "source": [
    "# Задача: Монеты и вероятность\n",
    "# Допустим, у вас есть 3 монеты:\n",
    "\n",
    "# Честная монета, которая выпадает \"орёл\" и \"решка\" с вероятностью 50% (0.5).\n",
    "# Монета, сдвинутая к орлу, которая выпадает \"орёл\" с вероятностью 75% (0.75) и \"решка\" — с вероятностью 25%.\n",
    "# Монета, сдвинутая к решке, которая выпадает \"решка\" с вероятностью 80% (0.8) и \"орёл\" — с вероятностью 20%.\n",
    "# Задача: Напишите программу на Python, которая будет имитировать 1000 подбрасываний случайной монеты и выводить, сколько раз выпала \"орёл\" и сколько раз — \"решка\".\n",
    "\n",
    "# Условия:\n",
    "# На каждом шаге выбирается случайная монета.\n",
    "# Подбрасывается выбранная монета с учётом её вероятностей.\n",
    "# Подсказки:\n",
    "# Для генерации случайного числа можно использовать модуль random.\n",
    "# Чтобы имитировать подбрасывание монеты, нужно учитывать вероятность выпадения \"орла\" или \"решки\" для каждой монеты.\n",
    "\n",
    "\n",
    "import random\n",
    "\n",
    "h = 0\n",
    "t = 0\n",
    "\n",
    "for i in range(1000):\n",
    "    coins = random.randint(0,2)\n",
    "    a = random.randint(1,100)\n",
    "    if coins == 0:\n",
    "        if a <=50:\n",
    "            h+=1\n",
    "        else:\n",
    "            t+=1\n",
    "    elif coins == 1:\n",
    "        if a<=75:\n",
    "            h+=1\n",
    "        else:\n",
    "            t+=1\n",
    "    elif coins == 2:\n",
    "        if a <=80:\n",
    "            t+=1\n",
    "        else:\n",
    "            h+=1\n",
    "print(h, t)\n"
   ]
  },
  {
   "cell_type": "code",
   "execution_count": 11,
   "metadata": {},
   "outputs": [
    {
     "name": "stdout",
     "output_type": "stream",
     "text": [
      "0.16101694915254225\n"
     ]
    }
   ],
   "source": [
    "# Пример задачи: у вас есть тест на определение болезни, с точностью теста 95%. Болезнь встречается у 1% населения.\n",
    "# Напишите программу, которая\n",
    "# вычисляет вероятность того, что человек действительно болен, если тест показал положительный результат \n",
    "# (с использованием теоремы Байеса).\n",
    "\n",
    "ba = 0.95\n",
    "a = 0.01\n",
    "def bayes(ba, a):\n",
    "    bab = 1-ba\n",
    "    aba = 1- a\n",
    "    b = (ba*a) +(bab*aba)\n",
    "    return ba*a/b\n",
    "print(bayes(ba,a)) \n",
    "    "
   ]
  },
  {
   "cell_type": "code",
   "execution_count": 6,
   "metadata": {},
   "outputs": [
    {
     "name": "stdout",
     "output_type": "stream",
     "text": [
      "([1668780, 3334503], [3332330, 1664387])\n"
     ]
    }
   ],
   "source": [
    "# В телевизионной игре три двери, за одной из которых находится автомобиль, а за двумя другими — козы. \n",
    "# Игрок выбирает одну дверь. \n",
    "# Ведущий, знающий, где автомобиль, открывает одну из оставшихся дверей, за которой находится коза, \n",
    "# и предлагает игроку поменять свой выбор. \n",
    "# Напишите программу, которая симулирует 10000 игр и вычисляет вероятность выигрыша автомобиля\n",
    "# при смене выбора и при отказе от смены.\n",
    "import random\n",
    "\n",
    "def lol():\n",
    "    c = [0,0]\n",
    "    c1 = [0,0]\n",
    "    for i in range(10000000):\n",
    "        a = ['avto', 'koza1', 'koza2']\n",
    "        player = random.choice(a)\n",
    "        if player == 'koza1':\n",
    "            a.remove('koza2')\n",
    "        else:\n",
    "            a.remove('koza1')\n",
    "        player1 = random.choice(a)\n",
    "        if player1 == player and player == 'avto':\n",
    "            c[0] +=1\n",
    "        elif player1 == player:\n",
    "            c[1]+=1\n",
    "        elif player1!=player and player1 == 'avto':\n",
    "            c1[0]+=1\n",
    "        else:\n",
    "            c1[1]+=1\n",
    "    return c, c1\n",
    "print(lol())\n",
    "            \n",
    "    "
   ]
  },
  {
   "cell_type": "markdown",
   "metadata": {},
   "source": [
    "this is garnet, back together, and im never going down at the hands of the likes of you, because im so much better, and every part of me is saying go get her, the two of us aint gonnna follow your rules, come at me without any of your fancy tools, lets go, just me and you, lets go, just one on two, go ahead and try to hit me if you're able, cant you see that my relationship is stable, i can see you hate the way we intermingle, but i think you're just mad cuz you're single, you aint gonna stop what we made together, we are gonna be like this forever, if you break us apart we'll just come back newer, and we'll always be twive the gem that you are. Im made of love, and im stronger tha ypu. This is who i am, this is who we are, and if you think yoi can stop us then you need to think again, cuz i am a feeling, and i will never end, and i won't let you hurt my planet, and i won't let you hurt my friends"
   ]
  },
  {
   "cell_type": "code",
   "execution_count": 18,
   "metadata": {},
   "outputs": [
    {
     "name": "stdout",
     "output_type": "stream",
     "text": [
      "{1, 2, 5, 6}\n"
     ]
    }
   ],
   "source": [
    "# a = {1,2,3,4}\n",
    "# b = {3,4,5,6}\n",
    "# c = {}\n",
    "# for i , k in zip(a,b):\n",
    "#     if i in b:\n",
    "#         c.add(i)\n",
    "#     if k in a:\n",
    "#         c.add(i)\n",
    "# print(a)\n",
    "# cw = a.symmetric_difference(b)\n",
    "\n",
    "a = [1,2,3,4]\n",
    "b = [3,4,5,6]\n",
    "print(set(a).symmetric_difference(b))"
   ]
  },
  {
   "cell_type": "code",
   "execution_count": 18,
   "metadata": {},
   "outputs": [
    {
     "name": "stdout",
     "output_type": "stream",
     "text": [
      "4967\n",
      "moda:4967 2\n"
     ]
    }
   ],
   "source": [
    "from random import randint\n",
    "arr = [randint(1000,5000) for i in range(50)]\n",
    "m = 0\n",
    "for i in arr:\n",
    "    if m<i:\n",
    "        m = i\n",
    "print(m)\n",
    "\n",
    "\n",
    "def mod():\n",
    "    d= {}\n",
    "    for i in arr:\n",
    "        d[i] = d.get(i, 0)+1\n",
    "    m = 0\n",
    "    c= 0\n",
    "    for i in d:\n",
    "        if d[i]>c:\n",
    "            m = i\n",
    "            c = d[i]  \n",
    "    c1 = 0\n",
    "    for i in d:\n",
    "        if d[i] == c:\n",
    "            c1+=1\n",
    "            if c1>1:\n",
    "                return 'No moda'\n",
    "        else:\n",
    "            return f'moda:{m} {c}'\n",
    "print(mod())"
   ]
  },
  {
   "cell_type": "code",
   "execution_count": null,
   "metadata": {},
   "outputs": [],
   "source": [
    "import random\n",
    "\n",
    "coins = {\"H\":0,\"T\":0}\n",
    "for i in range(1000):\n",
    "    coin = random.randint(0,1)\n",
    "    if coin == 0:\n",
    "        coins['H']+=1\n",
    "    else:\n",
    "        coins[\"T\"]+=1\n",
    "print(\"Heads: \",coins[\"H\"]/1000, \"\\nTail: \", coins['T']/1000)\n",
    "        "
   ]
  },
  {
   "cell_type": "code",
   "execution_count": 5,
   "metadata": {},
   "outputs": [
    {
     "name": "stdout",
     "output_type": "stream",
     "text": [
      "[[33, 19, 47, 38, 71, 85, 38, 90, 30, 60], [72, 96, 13, 7, 0, 31, 13, 27, 2, 22], [55, 20, 98, 85, 99, 92, 99, 54, 5, 17], [12, 98, 6, 14, 44, 21, 61, 88, 9, 49], [61, 54, 60, 65, 84, 41, 1, 59, 65, 77]]\n",
      "[[97, 11, 0, 45, 84, 65, 38, 14, 11, 77], [72, 86, 51, 15, 99, 28, 0, 77, 89, 100], [33, 77, 3, 77, 28, 29, 90, 33, 88, 77], [66, 28, 69, 95, 33, 75, 92, 10, 14, 55], [67, 85, 67, 18, 22, 26, 47, 39, 91, 0]]\n",
      "[[130, 30, 47, 83, 155, 150, 76, 104, 41, 137], [144, 182, 64, 22, 99, 59, 13, 104, 91, 122], [88, 97, 101, 162, 127, 121, 189, 87, 93, 94], [78, 126, 75, 109, 77, 96, 153, 98, 23, 104], [128, 139, 127, 83, 106, 67, 48, 98, 156, 77]]\n"
     ]
    }
   ],
   "source": [
    "import random\n",
    "a = [[random.randint(0,100) for i in range(10)] for i in range(5)]\n",
    "print(a)\n",
    "b = [[random.randint(0,100) for i in range(10)] for i in range(5)]\n",
    "print(b)\n",
    "for ind,arr in enumerate(b):\n",
    "    for ind1,num in enumerate(arr):\n",
    "        a[ind][ind1]+=num\n",
    "print(a)"
   ]
  },
  {
   "cell_type": "code",
   "execution_count": 21,
   "metadata": {},
   "outputs": [
    {
     "name": "stdout",
     "output_type": "stream",
     "text": [
      "[[4, 5, 5, 1], [9, 1, 5, 5], [7, 2, 7, 3]]\n",
      "[[10, 2], [2, 7], [7, 7], [4, 1]]\n",
      "[[89, 79], [147, 65], [135, 80]]\n"
     ]
    }
   ],
   "source": [
    "# from random import randint\n",
    "# a = [[randint(1,100) for i in range(4)] for i in range(3)]\n",
    "# b = [[randint(1,100) for i in range(4)] for i in range(3)]\n",
    "# c = []\n",
    "# print(a)\n",
    "# print(b)\n",
    "# for i, x in enumerate(a):\n",
    "#     for i2 in range(len(x)):\n",
    "#         c.append(a[i][i2] + b[i][i2])\n",
    "# print(c)\n",
    "\n",
    "a = [[randint(1,10) for i in range(4)] for i in range(3)]\n",
    "b = [[randint(1,10) for i in range(2)] for i in range(4)]\n",
    "d = []\n",
    "print(a)\n",
    "print(b)\n",
    "for i, x in enumerate(a):#3\n",
    "    row = []\n",
    "    for i2 in range(len(b[0])):#2\n",
    "        c= 0\n",
    "        for i3 in range(len(x)):#4\n",
    "            c += a[i][i3]*b[i3][i2]\n",
    "        row.append(c)\n",
    "    d.append(row)        \n",
    "print(d)\n"
   ]
  },
  {
   "cell_type": "code",
   "execution_count": null,
   "metadata": {},
   "outputs": [],
   "source": [
    "from time import time\n",
    "from random import randint\n",
    "from collections import defaultdict\n",
    "a = [[randint(10,100) for i in range(5000)] for i in range(1000)]\n",
    "start = time()\n",
    "resr = []\n",
    "for i in a:\n",
    "    sumr = 0\n",
    "    for u in i:\n",
    "        sumr+=u\n",
    "    resr.append(sumr)\n",
    "end = time()\n",
    "print(end-start)\n",
    "\n",
    "start = time()\n",
    "resc = {}\n",
    "for i,x in enumerate(a):\n",
    "    sumc = 0\n",
    "    for o,u in enumerate(x):\n",
    "        resc[o]+=u\n",
    "    resc.append(sumr)\n",
    "end = time()\n",
    "print(end - start)"
   ]
  },
  {
   "cell_type": "code",
   "execution_count": 6,
   "metadata": {},
   "outputs": [
    {
     "name": "stdout",
     "output_type": "stream",
     "text": [
      "[17, -3]\n",
      "Mat:  2.0\n",
      "Probability:  8.660254037844387\n"
     ]
    }
   ],
   "source": [
    "from random import randint\n",
    "# a = [randint(10,100) for i in range(5)]\n",
    "# a = [10,20,30,40]\n",
    "# b = [0.1,0.4,0.3,0.2]\n",
    "a = [17,-3]\n",
    "b = [0.25,0.75]\n",
    "print(a)\n",
    "mat = 0\n",
    "for i,x in zip(a,b):\n",
    "    mat+=i*x\n",
    "\n",
    "total = 0\n",
    "print(\"Mat: \", mat)\n",
    "for i,x in zip(a,b):\n",
    "    total += (i-mat)**2*x\n",
    "\n",
    "print(\"Probability: \",total**0.5)"
   ]
  },
  {
   "cell_type": "code",
   "execution_count": null,
   "metadata": {},
   "outputs": [],
   "source": [
    "\n",
    "    \n",
    "    "
   ]
  }
 ],
 "metadata": {
  "kernelspec": {
   "display_name": "Python 3",
   "language": "python",
   "name": "python3"
  },
  "language_info": {
   "codemirror_mode": {
    "name": "ipython",
    "version": 3
   },
   "file_extension": ".py",
   "mimetype": "text/x-python",
   "name": "python",
   "nbconvert_exporter": "python",
   "pygments_lexer": "ipython3",
   "version": "3.12.6"
  }
 },
 "nbformat": 4,
 "nbformat_minor": 2
}
