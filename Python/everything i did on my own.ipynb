{
 "cells": [
  {
   "cell_type": "code",
   "execution_count": 2,
   "metadata": {},
   "outputs": [
    {
     "name": "stdout",
     "output_type": "stream",
     "text": [
      "\n"
     ]
    }
   ],
   "source": [
    "a = input()\n",
    "print(a)"
   ]
  },
  {
   "cell_type": "code",
   "execution_count": 3,
   "metadata": {},
   "outputs": [
    {
     "name": "stdout",
     "output_type": "stream",
     "text": [
      "9\n"
     ]
    }
   ],
   "source": [
    "a = 4\n",
    "b = 5\n",
    "print(a+b)"
   ]
  },
  {
   "cell_type": "code",
   "execution_count": 4,
   "metadata": {},
   "outputs": [
    {
     "name": "stdout",
     "output_type": "stream",
     "text": [
      "NasipaNasipaNasipaNasipaNasipaNasipaNasipaNasipaNasipaNasipa\n"
     ]
    }
   ],
   "source": [
    "a = \"Nasipa\"\n",
    "print(a*10)"
   ]
  },
  {
   "cell_type": "code",
   "execution_count": 5,
   "metadata": {},
   "outputs": [
    {
     "name": "stdout",
     "output_type": "stream",
     "text": [
      "\n"
     ]
    }
   ],
   "source": [
    "a = input()\n",
    "b = input()\n",
    "print(a+b)"
   ]
  },
  {
   "cell_type": "code",
   "execution_count": 6,
   "metadata": {},
   "outputs": [
    {
     "name": "stdout",
     "output_type": "stream",
     "text": [
      "6 , Nasipa\n"
     ]
    }
   ],
   "source": [
    "a = 6\n",
    "b = \"Nasipa\"\n",
    "print(a, \",\", b)"
   ]
  },
  {
   "cell_type": "code",
   "execution_count": 7,
   "metadata": {},
   "outputs": [
    {
     "name": "stdout",
     "output_type": "stream",
     "text": [
      "NasipaNasipaNasipaNasipaNasipa\n"
     ]
    }
   ],
   "source": [
    "a = \"Nasipa\"\n",
    "print(a*5)"
   ]
  },
  {
   "cell_type": "code",
   "execution_count": 8,
   "metadata": {},
   "outputs": [
    {
     "name": "stdout",
     "output_type": "stream",
     "text": [
      "\n"
     ]
    }
   ],
   "source": [
    "a = input()\n",
    "print(a[::-1])"
   ]
  },
  {
   "cell_type": "code",
   "execution_count": 9,
   "metadata": {},
   "outputs": [
    {
     "name": "stdout",
     "output_type": "stream",
     "text": [
      "0\n"
     ]
    }
   ],
   "source": [
    "a = input()\n",
    "m = 0\n",
    "for i in a:\n",
    "    m+=1\n",
    "print(m)"
   ]
  },
  {
   "cell_type": "code",
   "execution_count": 10,
   "metadata": {},
   "outputs": [
    {
     "ename": "ValueError",
     "evalue": "invalid literal for int() with base 10: ''",
     "output_type": "error",
     "traceback": [
      "\u001b[1;31m---------------------------------------------------------------------------\u001b[0m",
      "\u001b[1;31mValueError\u001b[0m                                Traceback (most recent call last)",
      "Cell \u001b[1;32mIn[10], line 1\u001b[0m\n\u001b[1;32m----> 1\u001b[0m a \u001b[38;5;241m=\u001b[39m \u001b[38;5;28;43mint\u001b[39;49m\u001b[43m(\u001b[49m\u001b[38;5;28;43minput\u001b[39;49m\u001b[43m(\u001b[49m\u001b[43m)\u001b[49m\u001b[43m)\u001b[49m\n\u001b[0;32m      2\u001b[0m b \u001b[38;5;241m=\u001b[39m \u001b[38;5;28mint\u001b[39m(\u001b[38;5;28minput\u001b[39m())\n\u001b[0;32m      3\u001b[0m \u001b[38;5;28mprint\u001b[39m(a\u001b[38;5;241m-\u001b[39mb)\n",
      "\u001b[1;31mValueError\u001b[0m: invalid literal for int() with base 10: ''"
     ]
    }
   ],
   "source": [
    "a = int(input())\n",
    "b = int(input())\n",
    "print(a-b)"
   ]
  },
  {
   "cell_type": "code",
   "execution_count": 15,
   "metadata": {},
   "outputs": [
    {
     "name": "stdout",
     "output_type": "stream",
     "text": [
      "50\n"
     ]
    }
   ],
   "source": [
    "a = int(input())\n",
    "b = int(input())\n",
    "print(a*b)"
   ]
  },
  {
   "cell_type": "code",
   "execution_count": 16,
   "metadata": {},
   "outputs": [
    {
     "name": "stdout",
     "output_type": "stream",
     "text": [
      "5\n"
     ]
    }
   ],
   "source": [
    "a = int(input())\n",
    "b = int(input())\n",
    "print(a//b)"
   ]
  },
  {
   "cell_type": "code",
   "execution_count": 18,
   "metadata": {},
   "outputs": [
    {
     "name": "stdout",
     "output_type": "stream",
     "text": [
      "1\n"
     ]
    }
   ],
   "source": [
    "a = int(input())\n",
    "b = int(input())\n",
    "print(a%b)"
   ]
  },
  {
   "cell_type": "code",
   "execution_count": 21,
   "metadata": {},
   "outputs": [
    {
     "name": "stdout",
     "output_type": "stream",
     "text": [
      "0 is zero\n"
     ]
    }
   ],
   "source": [
    "a = int(input())\n",
    "if a>0:\n",
    "    print(a, \"is positive\")\n",
    "elif a==0:\n",
    "    print(a, \"is zero\")\n",
    "else:\n",
    "    print(a, 'is negative')"
   ]
  },
  {
   "cell_type": "code",
   "execution_count": 23,
   "metadata": {},
   "outputs": [
    {
     "name": "stdout",
     "output_type": "stream",
     "text": [
      "14 is bigger than 1\n"
     ]
    }
   ],
   "source": [
    "a = int(input())\n",
    "b = int(input())\n",
    "if a>b:\n",
    "    print(a, \"is bigger than\", b)\n",
    "else:\n",
    "    print(b, \"is bigger than\", a)"
   ]
  },
  {
   "cell_type": "code",
   "execution_count": 25,
   "metadata": {},
   "outputs": [
    {
     "name": "stdout",
     "output_type": "stream",
     "text": [
      "they are equal in lenght\n"
     ]
    }
   ],
   "source": [
    "a = input()\n",
    "b = input()\n",
    "if len(a)==len(b):\n",
    "    print(\"they are equal in lenght\")\n",
    "else:\n",
    "    print(\"They arent\")"
   ]
  },
  {
   "cell_type": "code",
   "execution_count": 29,
   "metadata": {},
   "outputs": [
    {
     "name": "stdout",
     "output_type": "stream",
     "text": [
      "Even\n"
     ]
    }
   ],
   "source": [
    "a = int(input())\n",
    "if a%2 ==0:\n",
    "    print(\"Even\")\n",
    "else:\n",
    "    print(\"odd\")\n",
    "    "
   ]
  },
  {
   "cell_type": "code",
   "execution_count": 31,
   "metadata": {},
   "outputs": [
    {
     "name": "stdout",
     "output_type": "stream",
     "text": [
      "No it doest\n"
     ]
    }
   ],
   "source": [
    "a = int(input())\n",
    "if a%5 == 0:\n",
    "    print(\"Yes it does delitsa\")\n",
    "else:\n",
    "    print(\"No it doest\")"
   ]
  },
  {
   "cell_type": "code",
   "execution_count": 35,
   "metadata": {},
   "outputs": [
    {
     "name": "stdout",
     "output_type": "stream",
     "text": [
      "15 is bigger than 14 and 12\n"
     ]
    }
   ],
   "source": [
    "a = int(input())\n",
    "b = int(input())\n",
    "c = int(input())\n",
    "if a>b and a>c:\n",
    "    print(a, \"is bigger than\", b, \"and\", c)\n",
    "elif b>a and b>c:\n",
    "    print(b, \"is bigger than\", a, \"and\", c)\n",
    "else:\n",
    "    print(c, \"is bigger than\", b, \"and\", a)"
   ]
  },
  {
   "cell_type": "code",
   "execution_count": 45,
   "metadata": {},
   "outputs": [
    {
     "name": "stdout",
     "output_type": "stream",
     "text": [
      "Only alphabet\n"
     ]
    }
   ],
   "source": [
    "a = input()\n",
    "if a.isalpha():\n",
    "    print(\"Only alphabet\")\n",
    "else:\n",
    "    print(\"There are numbers\")"
   ]
  },
  {
   "cell_type": "code",
   "execution_count": 6,
   "metadata": {},
   "outputs": [
    {
     "name": "stdout",
     "output_type": "stream",
     "text": [
      "Yeah\n"
     ]
    }
   ],
   "source": [
    "a = int(input())\n",
    "if a%4 == 0:\n",
    "    print(\"Да висикосный\")\n",
    "else:\n",
    "    print(\"Нет не висикосный\")"
   ]
  },
  {
   "cell_type": "code",
   "execution_count": 9,
   "metadata": {},
   "outputs": [
    {
     "name": "stdout",
     "output_type": "stream",
     "text": [
      "Сдал\n"
     ]
    }
   ],
   "source": [
    "a = int(input(\"Введите свою оценку\"))\n",
    "if a>50 and a<101:\n",
    "    print(\"Сдал\")\n",
    "else:\n",
    "    print(\"Не сдал\")"
   ]
  },
  {
   "cell_type": "code",
   "execution_count": 12,
   "metadata": {},
   "outputs": [
    {
     "name": "stdout",
     "output_type": "stream",
     "text": [
      "odd\n",
      "7 is positive\n"
     ]
    }
   ],
   "source": [
    "a = int(input())\n",
    "if a%2 ==0:\n",
    "    print(\"Even\")\n",
    "else:\n",
    "    print(\"odd\")\n",
    "if a>0:\n",
    "    print(a, \"is positive\")\n",
    "elif a==0:\n",
    "    print(a, \"is zero\")\n",
    "else:\n",
    "    print(a, 'is negative')"
   ]
  },
  {
   "cell_type": "code",
   "execution_count": 23,
   "metadata": {},
   "outputs": [
    {
     "name": "stdout",
     "output_type": "stream",
     "text": [
      "0\n",
      "1\n",
      "2\n",
      "3\n",
      "4\n",
      "5\n",
      "6\n",
      "7\n",
      "8\n",
      "9\n",
      "10\n"
     ]
    }
   ],
   "source": [
    "for i in range(11):\n",
    "    print(i)"
   ]
  },
  {
   "cell_type": "code",
   "execution_count": 31,
   "metadata": {},
   "outputs": [
    {
     "name": "stdout",
     "output_type": "stream",
     "text": [
      "2\n",
      "4\n",
      "6\n",
      "8\n",
      "10\n",
      "12\n",
      "14\n",
      "16\n",
      "18\n",
      "20\n"
     ]
    }
   ],
   "source": [
    "for i in range(1, 21):\n",
    "    if i%2 ==0:\n",
    "        print(i)"
   ]
  },
  {
   "cell_type": "code",
   "execution_count": 30,
   "metadata": {},
   "outputs": [
    {
     "name": "stdout",
     "output_type": "stream",
     "text": [
      "5050\n"
     ]
    }
   ],
   "source": [
    "p = 0\n",
    "for i in range(1, 101):\n",
    "    p +=i\n",
    "print(p)"
   ]
  },
  {
   "cell_type": "code",
   "execution_count": 29,
   "metadata": {},
   "outputs": [
    {
     "name": "stdout",
     "output_type": "stream",
     "text": [
      "1 * 1 = 1\n",
      "1 * 2 = 2\n",
      "1 * 3 = 3\n",
      "1 * 4 = 4\n",
      "1 * 5 = 5\n",
      "1 * 6 = 6\n",
      "1 * 7 = 7\n",
      "1 * 8 = 8\n",
      "1 * 9 = 9\n",
      "2 * 1 = 2\n",
      "2 * 2 = 4\n",
      "2 * 3 = 6\n",
      "2 * 4 = 8\n",
      "2 * 5 = 10\n",
      "2 * 6 = 12\n",
      "2 * 7 = 14\n",
      "2 * 8 = 16\n",
      "2 * 9 = 18\n",
      "3 * 1 = 3\n",
      "3 * 2 = 6\n",
      "3 * 3 = 9\n",
      "3 * 4 = 12\n",
      "3 * 5 = 15\n",
      "3 * 6 = 18\n",
      "3 * 7 = 21\n",
      "3 * 8 = 24\n",
      "3 * 9 = 27\n",
      "4 * 1 = 4\n",
      "4 * 2 = 8\n",
      "4 * 3 = 12\n",
      "4 * 4 = 16\n",
      "4 * 5 = 20\n",
      "4 * 6 = 24\n",
      "4 * 7 = 28\n",
      "4 * 8 = 32\n",
      "4 * 9 = 36\n",
      "5 * 1 = 5\n",
      "5 * 2 = 10\n",
      "5 * 3 = 15\n",
      "5 * 4 = 20\n",
      "5 * 5 = 25\n",
      "5 * 6 = 30\n",
      "5 * 7 = 35\n",
      "5 * 8 = 40\n",
      "5 * 9 = 45\n",
      "6 * 1 = 6\n",
      "6 * 2 = 12\n",
      "6 * 3 = 18\n",
      "6 * 4 = 24\n",
      "6 * 5 = 30\n",
      "6 * 6 = 36\n",
      "6 * 7 = 42\n",
      "6 * 8 = 48\n",
      "6 * 9 = 54\n",
      "7 * 1 = 7\n",
      "7 * 2 = 14\n",
      "7 * 3 = 21\n",
      "7 * 4 = 28\n",
      "7 * 5 = 35\n",
      "7 * 6 = 42\n",
      "7 * 7 = 49\n",
      "7 * 8 = 56\n",
      "7 * 9 = 63\n",
      "8 * 1 = 8\n",
      "8 * 2 = 16\n",
      "8 * 3 = 24\n",
      "8 * 4 = 32\n",
      "8 * 5 = 40\n",
      "8 * 6 = 48\n",
      "8 * 7 = 56\n",
      "8 * 8 = 64\n",
      "8 * 9 = 72\n",
      "9 * 1 = 9\n",
      "9 * 2 = 18\n",
      "9 * 3 = 27\n",
      "9 * 4 = 36\n",
      "9 * 5 = 45\n",
      "9 * 6 = 54\n",
      "9 * 7 = 63\n",
      "9 * 8 = 72\n",
      "9 * 9 = 81\n"
     ]
    }
   ],
   "source": [
    "for i in range(1, 10):\n",
    "    for u in range(1, 10):\n",
    "        print(i, \"*\", u, \"=\", i*u)"
   ]
  },
  {
   "cell_type": "code",
   "execution_count": 28,
   "metadata": {},
   "outputs": [
    {
     "name": "stdout",
     "output_type": "stream",
     "text": [
      "Количество гласных в строке: 2\n"
     ]
    }
   ],
   "source": [
    "input_string = input()\n",
    "\n",
    "vowels = \"аеёиоуыэюяAEIOUYaeiou\"\n",
    "\n",
    "vowel_count = 0\n",
    "\n",
    "for char in input_string:\n",
    "    if char in vowels:\n",
    "        vowel_count += 1\n",
    "\n",
    "print(f\"Количество гласных в строке: {vowel_count}\")"
   ]
  },
  {
   "cell_type": "code",
   "execution_count": 35,
   "metadata": {},
   "outputs": [
    {
     "name": "stdout",
     "output_type": "stream",
     "text": [
      "650\n"
     ]
    }
   ],
   "source": [
    "p = 0\n",
    "for i in range(1,51):\n",
    "    if i%2 ==0:\n",
    "        p+=i\n",
    "print(p)"
   ]
  },
  {
   "cell_type": "code",
   "execution_count": 36,
   "metadata": {},
   "outputs": [
    {
     "name": "stdout",
     "output_type": "stream",
     "text": [
      "[9, 73, 7, 35]\n"
     ]
    }
   ],
   "source": [
    "from random import randint\n",
    "arr =[]\n",
    "numofnum = int(input())\n",
    "start = int(input())\n",
    "end = int(input())\n",
    "for i in range(numofnum):\n",
    "    x = randint(start,end) \n",
    "    if x%2==1:\n",
    "        arr.append(x)\n",
    "print(arr)\n",
    "    "
   ]
  },
  {
   "cell_type": "code",
   "execution_count": 41,
   "metadata": {},
   "outputs": [
    {
     "name": "stdout",
     "output_type": "stream",
     "text": [
      "3 раза в тексте Всем делмм буква м\n"
     ]
    }
   ],
   "source": [
    "a = input()\n",
    "b = input()\n",
    "sum=0\n",
    "for i in a:\n",
    "    if b==i:\n",
    "        sum+=1\n",
    "print(f\"{sum} раза в тексте {a} буква {b}\")"
   ]
  },
  {
   "cell_type": "code",
   "execution_count": 43,
   "metadata": {},
   "outputs": [
    {
     "name": "stdout",
     "output_type": "stream",
     "text": [
      "362880\n"
     ]
    }
   ],
   "source": [
    "p = 1\n",
    "for i in range(1,10):\n",
    "        p= p*i\n",
    "print(p)"
   ]
  },
  {
   "cell_type": "code",
   "execution_count": 55,
   "metadata": {},
   "outputs": [
    {
     "name": "stdout",
     "output_type": "stream",
     "text": [
      "[44, 'ball', 'holl', 23, 'gghs', 'fff', 1]\n"
     ]
    }
   ],
   "source": [
    "r= [1, \"fff\", \"gghs\", 23, \"holl\", \"ball\", 44]\n",
    "reversed =[]\n",
    "o = 1\n",
    "for i in range(1, len(r)+1):\n",
    "    e = len(r) - o\n",
    "    o = o+1\n",
    "    reversed.append(r[e])\n",
    "print(reversed)"
   ]
  },
  {
   "cell_type": "code",
   "execution_count": 72,
   "metadata": {},
   "outputs": [
    {
     "name": "stdout",
     "output_type": "stream",
     "text": [
      "Leftovers False\n"
     ]
    }
   ],
   "source": [
    "import math\n",
    "a = int(input())\n",
    "sa = math.sqrt(a)\n",
    "if sa.is_integer():\n",
    "    torf=True\n",
    "    print(\"Perfect square\", torf)\n",
    "else:\n",
    "    torf=False\n",
    "    print(\"Leftovers\", torf)\n",
    "    \n",
    "\n",
    "    \n",
    "     "
   ]
  },
  {
   "cell_type": "code",
   "execution_count": 76,
   "metadata": {},
   "outputs": [
    {
     "name": "stdout",
     "output_type": "stream",
     "text": [
      "tttttttyt False\n"
     ]
    }
   ],
   "source": [
    "a = input()\n",
    "c= a[0]\n",
    "torf= True\n",
    "for i in a:\n",
    "    if i!=c:\n",
    "        torf = False\n",
    "        break\n",
    "print(a, torf)"
   ]
  },
  {
   "cell_type": "code",
   "execution_count": 2,
   "metadata": {},
   "outputs": [
    {
     "name": "stdout",
     "output_type": "stream",
     "text": [
      "КАПЕЦ\n"
     ]
    }
   ],
   "source": [
    "print(\"КАПЕЦ\")"
   ]
  },
  {
   "cell_type": "code",
   "execution_count": 9,
   "metadata": {},
   "outputs": [
    {
     "name": "stdout",
     "output_type": "stream",
     "text": [
      "True\n"
     ]
    }
   ],
   "source": [
    "def isint(b):\n",
    "    if b<0:\n",
    "        return False\n",
    "    v = int(b**0.5)\n",
    "    return v*v==b\n",
    "print(isint(int(input())))\n",
    "    "
   ]
  },
  {
   "cell_type": "code",
   "execution_count": 12,
   "metadata": {},
   "outputs": [
    {
     "name": "stdout",
     "output_type": "stream",
     "text": [
      "False\n"
     ]
    }
   ],
   "source": [
    "def func(str):\n",
    "    a= str[0]\n",
    "    for i in str:\n",
    "        if i!=a:\n",
    "            return False\n",
    "    return True\n",
    "print(func(input()))\n",
    "        "
   ]
  },
  {
   "cell_type": "code",
   "execution_count": 15,
   "metadata": {},
   "outputs": [
    {
     "name": "stdout",
     "output_type": "stream",
     "text": [
      "8\n",
      "2\n"
     ]
    }
   ],
   "source": [
    "arr = [1, 3, 5, 8, 9, 11, 2]\n",
    "for i in arr:\n",
    "    if i//2 + i//2 ==i:\n",
    "        print(i)"
   ]
  },
  {
   "cell_type": "code",
   "execution_count": 27,
   "metadata": {},
   "outputs": [
    {
     "name": "stdout",
     "output_type": "stream",
     "text": [
      "2.5\n"
     ]
    }
   ],
   "source": [
    "arr=[1,2,3,4]\n",
    "def avr(arr):\n",
    "    s = 0\n",
    "    c = 0\n",
    "    for i in arr:\n",
    "        s = s+i\n",
    "        c = c+1\n",
    "    return s/c\n",
    "print(avr(arr))\n"
   ]
  },
  {
   "cell_type": "code",
   "execution_count": 36,
   "metadata": {},
   "outputs": [
    {
     "name": "stdout",
     "output_type": "stream",
     "text": [
      "belllk\n"
     ]
    }
   ],
   "source": [
    "s1 = \"emil\"\n",
    "s2 = \"belllk\"\n",
    "len1=0\n",
    "len2=0\n",
    "for i in s1:\n",
    "    len1=len1+1\n",
    "for i in s2:\n",
    "    len2=len2+1\n",
    "if len1>len2:\n",
    "    print(s1)\n",
    "elif len2>len1:\n",
    "    print(s2)\n",
    "else:\n",
    "    print(s1, s2)"
   ]
  },
  {
   "cell_type": "code",
   "execution_count": 40,
   "metadata": {},
   "outputs": [
    {
     "name": "stdout",
     "output_type": "stream",
     "text": [
      "False\n"
     ]
    }
   ],
   "source": [
    "arr = [2, 4, 6, 8, 5]\n",
    "c = True\n",
    "for i in arr:\n",
    "    if i%2==1:\n",
    "        c = False\n",
    "print(c)"
   ]
  },
  {
   "cell_type": "code",
   "execution_count": 48,
   "metadata": {},
   "outputs": [
    {
     "name": "stdout",
     "output_type": "stream",
     "text": [
      "True\n"
     ]
    }
   ],
   "source": [
    "arr = [2, 4, 6, 6, 8]\n",
    "c = True\n",
    "for i in arr:\n",
    "    if i%2==1:\n",
    "        c = False\n",
    "print(c)"
   ]
  },
  {
   "cell_type": "code",
   "execution_count": 14,
   "metadata": {},
   "outputs": [
    {
     "name": "stdout",
     "output_type": "stream",
     "text": [
      "[1000, 3000, 3000, 7000]\n",
      "atai перевел  omur ->881 на счет\n",
      " Обновленные счета:  [119, 3000, 3881, 7000]\n",
      "aziz перевел  omur ->1666 на счет\n",
      " Обновленные счета:  [119, 3000, 5547, 5334]\n",
      "aziz перевел sultan ->2613 на счет\n",
      " Обновленные счета:  [119, 5613, 5547, 2721]\n",
      " omur перевел aziz ->2600 на счет\n",
      " Обновленные счета:  [119, 5613, 2947, 5321]\n",
      "['atai', 'aziz', 'aziz', ' omur']\n",
      "[' omur', ' omur', 'sultan', 'aziz']\n",
      "[881, 1666, 2613, 2600] \n",
      "\n",
      "[119, 5613, 2947, 5321]\n",
      "aziz перевел  omur ->2600 на счет\n",
      " [119, 5613, 5547, 2721]\n",
      "sultan перевел aziz ->2613 на счет\n",
      " [119, 3000, 5547, 5334]\n",
      " omur перевел aziz ->1666 на счет\n",
      " [119, 3000, 3881, 7000]\n",
      " omur перевел atai ->881 на счет\n",
      " [1000, 3000, 3000, 7000]\n",
      "[' omur', 'aziz', 'aziz', 'atai']\n",
      "['aziz', 'sultan', ' omur', ' omur']\n",
      "[2600, 2613, 1666, 881]\n",
      "History undone\n"
     ]
    }
   ],
   "source": [
    "#1 it just transfers\n",
    "#2 it needs to randomly send people a random amount of money\n",
    "#3 the history of all this transactions need to be saved in some log\n",
    "#4 If we say the program it needs to undo all the progress and send all the money that was transacted bacck, reversing all the transactions\n",
    "import random\n",
    "names = [\"atai\", 'sultan', ' omur', 'aziz']\n",
    "amounts =[1000,3000,3000,7000]\n",
    "skolko=2000\n",
    "\n",
    "senders=[]\n",
    "receivers = []\n",
    "amountss = []\n",
    "\n",
    "def randomm():\n",
    "    t = random.randint(0,len(names)-1)\n",
    "    senders.append(names[t])\n",
    "    c = random.randint(0,len(names)-1)\n",
    "    while c==t:\n",
    "        c = random.randint(0,len(names)-1)\n",
    "    receivers.append(names[c])\n",
    "    return names[t],names[c]\n",
    "           \n",
    "\n",
    "def send(sender,receiver,skolko):\n",
    "    for i,x in enumerate(names):\n",
    "        if sender == x:\n",
    "            amounts[i]-=skolko\n",
    "        if receiver ==x:\n",
    "            amounts[i]+=skolko\n",
    "    return f\"{sender} перевел {receiver} ->{skolko} на счет\\n\"\n",
    "\n",
    "print(amounts)\n",
    "\n",
    "for i in range(4):\n",
    "    t,c = randomm()\n",
    "    for name,amount in zip(names,amounts):\n",
    "        if t==name:\n",
    "            transfer = random.randint(0,amount)\n",
    "            amountss.append(transfer)\n",
    "            print(send(t,c,transfer), \"Обновленные счета: \", amounts)\n",
    " \n",
    "print(senders)\n",
    "print(receivers)\n",
    "print(amountss, \"\\n\")\n",
    "\n",
    "\n",
    "\n",
    "print(amounts)\n",
    "def undo():\n",
    "    receivers2 = receivers\n",
    "    senders2 = senders\n",
    "    amountss2 = amountss\n",
    "    receivers2.reverse()\n",
    "    senders2.reverse()\n",
    "    amountss2.reverse()\n",
    "    for i in range(4):\n",
    "        print(send(receivers2[i], senders2[i], amountss2[i]), amounts)\n",
    "    print(senders)\n",
    "    print(receivers)\n",
    "    print(amountss)\n",
    "    return \"History undone\"\n",
    "print(undo())"
   ]
  },
  {
   "cell_type": "code",
   "execution_count": 3,
   "metadata": {},
   "outputs": [
    {
     "name": "stdout",
     "output_type": "stream",
     "text": [
      "Duplicate: 2 Lost number: 8\n"
     ]
    }
   ],
   "source": [
    "nums = [1,4,2,5,7,3,2,6]\n",
    "d = 0\n",
    "d1= 0\n",
    "u = 0\n",
    "for x,i in enumerate(nums):\n",
    "    u = u+x+1\n",
    "    d+=i\n",
    "for y in set(nums):\n",
    "    d1+=y\n",
    "print(\"Duplicate:\",d-d1,\"Lost number:\",u-d1)"
   ]
  },
  {
   "cell_type": "code",
   "execution_count": 3,
   "metadata": {},
   "outputs": [],
   "source": [
    "#skolko knig chitaet student\n",
    "#1.2 kakie knigi student vzial\n",
    "#Harry potter kto iz studentov vzial\n",
    "#Кто читает Жамиля(всех кто взял эту книги и читает)\n",
    "#Ckolko vse knigi chitaet Alay\n",
    "\n",
    "students = [\"Nasipa\", \"Emil\", \"Tom\", \"Kadir\", \"Temirlan\"]\n",
    "knigi = [\"Harry Potter\", \"ORV\", \"10 little indians\", \"Animal Farm\", \"1984\", 'Jamilya', \"At Bertrams Hotel\"]\n",
    "kol_knig = [1, 10, 2, 4, 6, 3, 5]\n",
    "student_knigi = [(\"Harry Potter\", \"Animal Farm\"), \n",
    "                 (\"10 little indians\", \"Jamilya\"),\n",
    "                 (\"ORV\", \"Animal Farm\"),\n",
    "                 (\"ORV\", \"1984\", \"At Bertrams Hotel\"),\n",
    "                 (\"1984\")]\n",
    "history = []\n",
    "author = [\"Aytmatov\", \"Rowling\"]\n",
    "bookk = [(\"Jamilya\", \"10 little indians\", \"At Bertrams Hotel\"), (\"Harry Potter\", \"ORV\", \"Animal Farm\", \"1984\")]\n",
    "\n",
    "\n",
    "def take(students, knigi, x):\n",
    "    history.append((students, knigi, x))\n",
    "    namei = find_(students)\n",
    "    ai = findi(knigi)\n",
    "    kol_knig[ai]-=x\n",
    "    lol = list(student_knigi[namei])\n",
    "    lol.append(knigi)\n",
    "    student_knigi[namei] = tuple(lol)\n",
    "    text = f\"{students} took {knigi}\"\n",
    "    return text\n",
    "\n",
    "def authors(authorr):\n",
    "    text = f\"Books of: {authorr}\\n\"\n",
    "    namib = find_y(authorr)\n",
    "    for i in list(bookk[namib]):\n",
    "        ai = findi(i)\n",
    "        text +=f\"{i}:{kol_knig[ai]}\\n\"\n",
    "    return text   \n",
    "    \n",
    "\n",
    "def give(students ,knigi, x):\n",
    "    namei = find_(students)\n",
    "    lol = list(student_knigi[namei])\n",
    "    lol.remove(knigi)\n",
    "    student_knigi[namei] = tuple(lol)\n",
    "    ai = findi(knigi)\n",
    "    kol_knig[ai]+=x  \n",
    "    text = f\"{students} returned {knigi}\"\n",
    "    return text  \n",
    "    \n",
    "#name and what books\n",
    "def find_name(name):\n",
    "    kolich = 0\n",
    "    namei = find_(name)\n",
    "    for i in student_knigi[namei]:\n",
    "        kolich+=1\n",
    "    text = f\"{name} has {student_knigi[namei]} books\"\n",
    "    text1 = f\"{name} has {kolich} books\"\n",
    "    return text,text1\n",
    "\n",
    "def find_book(book):\n",
    "    kto = []\n",
    "    for x,i in enumerate(student_knigi):\n",
    "        lol = list(student_knigi[x])\n",
    "        if book in lol:\n",
    "            kto.append(students[x])\n",
    "    text = f\"{kto} is reading {book}\"\n",
    "    return text \n",
    "\n",
    "def book_read(name):\n",
    "    kolich = 0\n",
    "    for i in history:\n",
    "        o,c,v = i\n",
    "        if o == name:\n",
    "            kolich +=v\n",
    "    text = f\"{name} has read {kolich} books\"\n",
    "    return text\n",
    "\n",
    "def findi(book):\n",
    "    for i,v in enumerate(knigi):\n",
    "        if book == v:\n",
    "            return i\n",
    "\n",
    "def find_(name):\n",
    "    for i,v in enumerate(students):\n",
    "        if name == v:\n",
    "            return i\n",
    "\n",
    "def find_y(namef):\n",
    "    for i,v in enumerate(author):\n",
    "        if namef == v:\n",
    "            return i\n",
    "    return None\n",
    "\n",
    "while True:\n",
    "    c = int(input(\"Введите 1 если хотите взять кинг\\nВведите 2 если хотите отдать книгу\\nВведите 3 если хотите узнать какую книгу кто читает\\nВведите 4 если хотите узнать сколько книг прочитал кто\\nВведиет 5 если хотите узнать кто сейчас что читает\\nВведите 6 если хотите узнат сколько книг у автора\\n\"))\n",
    "    if c == 1:\n",
    "        name = input(\"Name: \")\n",
    "        book = input(\"Book: \")\n",
    "        many = int(input(\"How many do you wanna take? \"))\n",
    "        take(name,book,many)\n",
    "    elif c==2:\n",
    "        name = input(\"Name: \")\n",
    "        book = input(\"Book: \")\n",
    "        many = int(input(\"How many do you wanna return? \"))\n",
    "        give(name,book,many)\n",
    "    elif c==3:\n",
    "        book = input(\"Book: \")\n",
    "        print(find_book(book))\n",
    "    elif c==4:\n",
    "        name = input(\"Name: \")\n",
    "        book_read(name)\n",
    "    elif c==5:\n",
    "        name= input(\"Name: \")\n",
    "        text, text1 = find_name(name)\n",
    "        print(text,\"\\n\",text1)\n",
    "    elif c==6:\n",
    "        authorrr = input(\"Author: \")\n",
    "        print(authors(authorrr))\n",
    "    else:\n",
    "        break\n",
    "\n",
    "\n"
   ]
  },
  {
   "cell_type": "code",
   "execution_count": 12,
   "metadata": {},
   "outputs": [
    {
     "name": "stdout",
     "output_type": "stream",
     "text": [
      "\n",
      "Your ticket:\n",
      "Flight number:rr\n",
      "Passenger name:rrr\n",
      "Seat number:rrr\n",
      "Welcome onboard!\n",
      "['AA101', 'BA202', 'CA303', 'DA404', 'EA505', 'rr'] \n",
      " ['John Doe', 'Jane Smith', 'Alice Johnson', 'Bob Brown', 'Charlie Davis', 'rrr'] \n",
      " ['12A', '14B', '12C', '15D', '16E', 'rrr'] \n",
      "\n"
     ]
    }
   ],
   "source": [
    "#авиабилеты\n",
    "\n",
    "flight_numbers = [\"AA101\", \"BA202\", \"CA303\", \"DA404\", \"EA505\"]\n",
    "passenger_names = [\"John Doe\", \"Jane Smith\", \"Alice Johnson\", \"Bob Brown\", \"Charlie Davis\"]\n",
    "seat_numbers = [\"12A\", \"14B\", \"12C\", \"15D\", \"16E\"]\n",
    "\n",
    "def buy_tickets(fnumber, name, snumber):\n",
    "    flight_numbers.append(fnumber)\n",
    "    passenger_names.append(name)\n",
    "    seat_numbers.append(snumber)\n",
    "    text = f\"\\nYour ticket:\\nFlight number:{fnumber}\\nPassenger name:{name}\\nSeat number:{snumber}\\nWelcome onboard!\"\n",
    "    return text\n",
    "    \n",
    "def give_ticket(namenum,arr):\n",
    "    ind = findi(namenum,arr)\n",
    "    if ind == \"no passenger like that\":\n",
    "        return \"no passenger like that\"\n",
    "    else:\n",
    "        flight_numbers.pop(ind)\n",
    "        passenger_names.pop(ind)\n",
    "        seat_numbers.pop(ind)\n",
    "        text = \"We're sad to lose a passenger like you!\"\n",
    "        return text\n",
    "    \n",
    "def findi(name, arr):\n",
    "    for x,i in enumerate(arr):\n",
    "        if i == name:\n",
    "            return x\n",
    "    return \"no passenger like that\"\n",
    "\n",
    "def print_(name):\n",
    "    ind = findi(name, passenger_names)\n",
    "    if ind == \"no book like that\":\n",
    "        return \"Вы не бронировали\\n\"\n",
    "    text = f\"\\nYour ticket:\\nMovie:{flight_numbers[ind]}\\nName:{passenger_names[ind]}\\nSeat number:{seat_numbers[ind]}\\nПриятного просмотра!\"\n",
    "    return text\n",
    "\n",
    "while True:\n",
    "    c = int(input(\"Введите 1 если хотите купить билет\\nВведите 2 если хотите вернуть билет\\nВведите 3 если хотите распечатать свой билет\\nВведите 4 если хотите увидеть все билеты\\nВведите что то другое если хотите выйти\\n\"))\n",
    "    if c ==1:\n",
    "        fnumber = input(\"Your flight number: \")\n",
    "        name = input(\"Your name: \")\n",
    "        snumber = input(\"Your seat number: \")\n",
    "        print(buy_tickets(fnumber, name, snumber))\n",
    "    elif c==2:\n",
    "        which = input(\"Do you want to return the ticket by 'name' or 'seat number'\")\n",
    "        if which == 'name':\n",
    "            name = input(\"Input your name: \")\n",
    "            print(give_ticket(name, passenger_names))\n",
    "        elif which == 'seat number':\n",
    "            seat = input(\"Input your seat number: \")\n",
    "            print(give_ticket(seat, seat_numbers))\n",
    "        else:\n",
    "            print(\"You inputted something else\")\n",
    "            break\n",
    "    elif c ==3:\n",
    "        name = input(\"Введите свое имя: \")\n",
    "        print(print_(name))\n",
    "    elif c == 4:\n",
    "        print(flight_numbers,\"\\n\",passenger_names,\"\\n\", seat_numbers,\"\\n\")\n",
    "    else:\n",
    "        break \n",
    "        "
   ]
  },
  {
   "cell_type": "code",
   "execution_count": null,
   "metadata": {},
   "outputs": [],
   "source": [
    "#same as above but this is movie theatre\n",
    "movie_titles = [\"Inception\", \"The Matrix\", \"Interstellar\", \"Titanic\", \"The Godfather\"]\n",
    "viewer_names = [[\"Alice Walker\", \"Inception\", \"3\"], [\"David Johnson\",\"Interstellar\", \"5\"], [\"Emily Davis\", \"Interstellar\", \"10\"]]\n",
    "seat_numbers = [[\"1\", \"2\", \"3\", \"4\", \"5\"], \n",
    "                [\"6\", \"7\", \"8\", \"9\", \"10\"], \n",
    "                [\"11\", \"12\", \"13\", \"14\", \"15\"], \n",
    "                [\"16\", \"17\", \"18\", \"19\", '20']]\n",
    "\n",
    "def buy_tickets(fnumber, name, snumber):\n",
    "    arr = []\n",
    "    if fnumber not in movie_titles:\n",
    "        text =\"No movie like that\"\n",
    "        return text\n",
    "    for i in viewer_names:\n",
    "        y = list(i)\n",
    "        if y[2]==snumber and y[1] == fnumber:\n",
    "            text = \"Seat taken\"\n",
    "            return text\n",
    "    for i in seat_numbers:\n",
    "        y = list(i)\n",
    "        for o in y:\n",
    "            if o ==snumber:\n",
    "                arr.append(name)\n",
    "                arr.append(fnumber)\n",
    "                arr.append(snumber)\n",
    "                viewer_names.append(arr) \n",
    "                text = f\"\\nYour book:\\nMovie:{fnumber}\\nName:{name}\\nSeat number:{snumber}\\nПриятного просмотра!\"\n",
    "                return text\n",
    "    text = \"No seat like that\"\n",
    "    return text\n",
    "\n",
    "    \n",
    "def give_ticket(namenum,arr):\n",
    "    ind = findi(namenum,arr)\n",
    "    if ind == \"no book like that\":\n",
    "        return \"no book like that\"\n",
    "    else:\n",
    "        for x,i in enumerate(arr):\n",
    "            y = list(i)\n",
    "            if y[0]==namenum or y[2]==namenum:\n",
    "                arr.pop(x)\n",
    "        text = \"We're sad to lose a book like you!\\n\"\n",
    "        return text\n",
    "    \n",
    "def findi(name, arr):\n",
    "    for i in arr:\n",
    "        y = list(i)\n",
    "        if y[0] == name or y[2] == name:\n",
    "            return y\n",
    "    return \"no book like that\"\n",
    "\n",
    "def print_(name):\n",
    "    ind = findi(name, viewer_names)\n",
    "    if ind == \"no book like that\":\n",
    "        return \"Вы не бронировали\\n\"\n",
    "    text = f\"\\nYour ticket:\\nMovie:{ind[1]}\\nName:{ind[0]}\\nSeat number:{ind[2]}\\nПриятного просмотра!\"\n",
    "    return text\n",
    "\n",
    "while True:\n",
    "    c = int(input(\"Введите 1 если хотите забронировать\\nВведите 2 если хотите отменить бронь\\nВведите 3 если хотите распечатать свой билет\\nВведите 4 если хотите увидеть все билеты\\nВведите что то другое если хотите выйти\\n\"))\n",
    "    if c ==1:\n",
    "        fnumber = input(\"Movie name: \")\n",
    "        name = input(\"Your name: \")\n",
    "        snumber = input(\"Your seat number: \")\n",
    "        print(buy_tickets(fnumber, name, snumber))\n",
    "    elif c==2:\n",
    "        name = input(\"Input your name or seat number: \")\n",
    "        print(give_ticket(name, viewer_names))\n",
    "    elif c ==3:\n",
    "        name = input(\"Введите свое имя: \")\n",
    "        print(print_(name))\n",
    "    elif c == 4:\n",
    "        print(viewer_names)\n",
    "    else:\n",
    "        break "
   ]
  },
  {
   "cell_type": "code",
   "execution_count": null,
   "metadata": {},
   "outputs": [],
   "source": [
    "items = {'cola':50, 'mars': 30, \"sprite\": 20, \"shoro\": 85}\n",
    "names = {}\n",
    "#not effective cuz i have to count every time bruh\n",
    "def kariz(name,item):\n",
    "    if name not in names:\n",
    "        names[name] = []\n",
    "    for i in items:\n",
    "        if i == item:\n",
    "            names[name].append(item)\n",
    "    return names\n",
    "\n",
    "def emneler_aldi(name):\n",
    "    for i in names:\n",
    "        if i == name:\n",
    "            return names[name]\n",
    "    \n",
    "def kancha_kariz(name):\n",
    "    f = emneler_aldi(name)\n",
    "    summ = 0\n",
    "    for i in f:\n",
    "        summ += items[i]\n",
    "    return summ\n",
    "\n",
    "kariz(\"Nasipa\", 'shoro')\n",
    "kariz(\"Nasipa\", \"mars\")\n",
    "kariz(\"Salma\", \"cola\")\n",
    "print(names, kancha_kariz(\"Nasipa\"), kancha_kariz(\"Salma\"))"
   ]
  },
  {
   "cell_type": "code",
   "execution_count": null,
   "metadata": {},
   "outputs": [],
   "source": []
  },
  {
   "cell_type": "code",
   "execution_count": null,
   "metadata": {},
   "outputs": [],
   "source": [
    "#not entirly my own\n",
    "items = {'cola':50, 'mars': 30, \"sprite\": 20, \"shoro\": 85}\n",
    "names = {\n",
    "    \"imena\":{\n",
    "    },\n",
    "    'summa':{\n",
    "    }\n",
    "}\n",
    "\n",
    "def kariz(name,item):\n",
    "    if item in items:\n",
    "        if name not in names['imena']:\n",
    "            names['imena'][name] = []\n",
    "            names['summa'][name] = 0\n",
    "        names['imena'][name].append(item)\n",
    "        names['summa'][name]+=items[item]           \n",
    "\n",
    "def emneler_aldi(name):\n",
    "    if name not in names['imena']:\n",
    "        return \"Netu takogo chela\"\n",
    "    return names['imena'][name]\n",
    "    \n",
    "def kancha_kariz(name):\n",
    "    if name not in names['imena']:\n",
    "        return \"Netu takogo chela\"\n",
    "    return names['summa'][name]\n",
    "    \n",
    "\n",
    "kariz(\"Nasipa\", 'shoro')\n",
    "kariz(\"Nasipa\", \"mars\")\n",
    "kariz(\"Salma\", \"cola\")\n",
    "\n",
    "print()"
   ]
  },
  {
   "cell_type": "code",
   "execution_count": null,
   "metadata": {},
   "outputs": [],
   "source": [
    "#improved version, mine and others collaboration\n",
    "\n",
    "items = {'cola':50, 'mars': 30, \"sprite\": 20, \"shoro\": 85}\n",
    "names = {\n",
    "    \"imena\":{\n",
    "    },\n",
    "    'summa':{\n",
    "    }\n",
    "}\n",
    "\n",
    "\n",
    "def kariz(name,item):\n",
    "    if item in items:\n",
    "        names['imena'][name] = names['imena'].get(name, {})\n",
    "        if item not in names['imena'][name]:\n",
    "            names['imena'][name][item] = 1      \n",
    "        elif names['imena'][name][item]>=1:\n",
    "            names['imena'][name][item]+=1\n",
    "        names[\"summa\"][name] = names[\"summa\"].get(name, 0) + items[item]\n",
    "        return getText(name)\n",
    "        \n",
    "def getText(name):\n",
    "    text = f\"\\t***{name} KARIZDAR***\\n\\n\"\n",
    "    for i in names['imena'].get(name, {}):\n",
    "        text+=f'{i}\\t* {names['imena'][name][i]}:\\t{items[i]}\\n'\n",
    "    text += f'TOTAL:\\t{names['summa'][name]}'\n",
    "    return text\n",
    "        \n",
    "\n",
    "def emneler_aldi(name):\n",
    "    if name not in names['imena']:\n",
    "        return \"Netu takogo chela\"\n",
    "    #return names[\"imena\"].get(name, 'netu takogo chela')\n",
    "    return names['imena'][name]\n",
    "    \n",
    "def kancha_kariz(name):\n",
    "    if name not in names['imena']:\n",
    "        return \"Netu takogo chela\"\n",
    "    #return names['summa'].get(name, \"netu takogo chela\")\n",
    "    return names['summa'][name]\n",
    "    \n",
    "def vernut(name, tovar, skolko):\n",
    "    if tovar in names['imena'].get(name, {}):\n",
    "        names['imena'][name][tovar] -= skolko\n",
    "        if names['imena'][name][tovar] == 0:\n",
    "            names['imena'][name].pop(tovar)\n",
    "        names['summa'][name] -= items[tovar]\n",
    "    return getText(name)      \n",
    "\n",
    "def kimkanchakariz():\n",
    "    text = '\\t **KARIZDAR\\n\\n'\n",
    "    total = 0\n",
    "    for name, summa in names['summa'].items():\n",
    "        text += f'{name}:\\t{summa}\\n'\n",
    "        total += summa\n",
    "    return text + f'\\n\\n {total}'\n",
    "\n",
    "    \n",
    "kariz(\"Nasipa\", 'shoro')\n",
    "kariz(\"Nasipa\", \"mars\")\n",
    "kariz(\"Salma\", \"cola\")\n",
    "kariz(\"Salma\", \"mars\")\n",
    "kariz(\"Salma\", \"sprite\")\n",
    "print(kariz(\"Salma\", \"cola\"))\n",
    "print(vernut(\"Salma\", \"cola\", 2))\n",
    "print(kariz(\"Nasipa\", 'sprite'))\n",
    "print(kimkanchakariz())\n",
    "print(emneler_aldi(\"Salma\"))"
   ]
  },
  {
   "cell_type": "code",
   "execution_count": 5,
   "metadata": {},
   "outputs": [
    {
     "name": "stdout",
     "output_type": "stream",
     "text": [
      "Grades of emil\n",
      "test1 : 120\n",
      "test2 : 20\n",
      "test3 : 100\n",
      "test4 : 20\n",
      "\n",
      "Grades of Nasipa\n",
      "test1 : 100\n",
      "test2 : 60\n",
      "\n",
      "AVERAGE of emil\t-->\t65.0\n",
      "AVERAGE of Nasipa\t-->\t80.0\n",
      "AVERAGE of Nurika\t-->\t60.0\n",
      "\n",
      "test1: Highest score emil\t-->\t120\n",
      "test2: Highest score Nasipa\t-->\t60\n",
      "test3: Highest score emil\t-->\t100\n",
      "test4: Highest score emil\t-->\t20\n",
      "\n"
     ]
    }
   ],
   "source": [
    "names = {\n",
    "}\n",
    "def addGrade(name, test, score):\n",
    "    if name not in names:\n",
    "        names[name] = {'quizzes':{}}\n",
    "    names[name]['quizzes'][test] = score\n",
    "        \n",
    "def getGrades(name):\n",
    "    text = f\"Grades of {name}\\n\"\n",
    "    if name not in names:\n",
    "        return None\n",
    "    for x, i in names[name]['quizzes'].items():\n",
    "        text += f\"{x} : {i}\\n\"\n",
    "    return text\n",
    "\n",
    "def getAverage(name):\n",
    "    if name not in names:\n",
    "        return None\n",
    "    average = 0\n",
    "    for i in names[name][\"quizzes\"]:\n",
    "        average += names[name]['quizzes'][i]\n",
    "    text =f\"AVERAGE of {name}\\t-->\\t{average/len(names[name][\"quizzes\"])}\"\n",
    "    return text\n",
    "\n",
    "def getAll():\n",
    "    text = \"\"\n",
    "    for i in names:\n",
    "        text += f\"{getAverage(i)}\\n\"\n",
    "    return text\n",
    "\n",
    "\n",
    "#if equal scores return the person who's name is alphabetically first\n",
    "def getHighestScores():\n",
    "    arr = {}\n",
    "    for name, quiz in names.items():\n",
    "        for test, score in quiz['quizzes'].items():\n",
    "            if test not in arr:\n",
    "                arr[test] = (name, score)\n",
    "            else:\n",
    "                if arr[test][1] < score or (arr[test][1]==score and name<arr[test][0]):\n",
    "                    arr[test] = (name,score)\n",
    "    text = \"\"\n",
    "    for test, (name, score) in arr.items():\n",
    "        text += f\"{test}: Highest score {name}\\t-->\\t{score}\\n\"\n",
    "    return text\n",
    "                \n",
    "            \n",
    "            \n",
    "    \n",
    "addGrade(\"emil\", \"test1\", 120)\n",
    "addGrade(\"emil\", \"test2\", 20)\n",
    "addGrade(\"Nasipa\", \"test1\", 100)\n",
    "addGrade(\"Nasipa\", \"test2\", 60)\n",
    "addGrade(\"Nurika\",'test2', 60)\n",
    "addGrade(\"emil\", \"test3\", 100)\n",
    "addGrade(\"emil\", 'test4', 20)\n",
    "print(getGrades(\"emil\"))\n",
    "print(getGrades(\"Nasipa\"))\n",
    "print(getAll())\n",
    "print(getHighestScores())"
   ]
  },
  {
   "cell_type": "code",
   "execution_count": 10,
   "metadata": {},
   "outputs": [
    {
     "name": "stdout",
     "output_type": "stream",
     "text": [
      "34\n"
     ]
    }
   ],
   "source": [
    "f = [[1,2,34, [1,2,34]], 1, 2, 20]\n",
    "print(f[0][3][2])"
   ]
  },
  {
   "cell_type": "code",
   "execution_count": null,
   "metadata": {},
   "outputs": [],
   "source": [
    "names = {\n",
    "    \"cs2023\":{\n",
    "        \"emil\":{\n",
    "            \"quizes\":['q1', 'q2', 'm'],\n",
    "            \"grades\":[60, 70, 80]\n",
    "        },\n",
    "        \"Salma\":{\n",
    "            \"quizes\":['q1', 'q2', 'm'],\n",
    "            \"grades\":[50, 80, 100]\n",
    "        },\n",
    "        \"Lola\":{\n",
    "            \"quizes\":['q1', 'm'],\n",
    "            \"grades\":[60, 80]\n",
    "        },\n",
    "    },\n",
    "    \"cs2024\":{\n",
    "        \"aziz\":{\n",
    "            \"quizes\":['q1','q2', 'm'],\n",
    "            \"grades\":[80, 20, 20]\n",
    "            }\n",
    "        }\n",
    "\n",
    "}\n",
    "\n",
    "\n",
    "def addGrade(clas, name, quiz, grade):\n",
    "    if name not in names[clas]:\n",
    "        names[clas][name] = {\n",
    "            \"quizes\":[], \n",
    "            \"grades\":[]\n",
    "        }\n",
    "    names[clas][name]['quizes'].append(quiz)\n",
    "    names[clas][name]['grades'].append(grade)\n",
    "\n",
    "\n",
    "def updateGrade(clas, name, exam, grade):\n",
    "    if name not in names[clas] or clas not in names or exam not in names[clas][name]['quizes']:\n",
    "        return \"No name or class like that\"\n",
    "    ind = names[clas][name]['quizes'].index(exam)\n",
    "    names[clas][name]['grades'][ind] = grade\n",
    "\n",
    "def deleteGrade(clas,name, exam):\n",
    "    if name not in names[clas] or clas not in names or exam not in names[clas][name]['quizes']:\n",
    "        return \"No name or class like that\"\n",
    "    ind = names[clas][name]['quizes'].index(exam)\n",
    "    names[clas][name]['grades'].pop(ind)  \n",
    "    names[clas][name]['quizes'].pop(ind)\n",
    "    \n",
    "def getAbsentStudents(students, exam, clas):\n",
    "    text = f\"Absent students on test {exam}:\\n\"\n",
    "    for i in students:\n",
    "        if i not in names[clas]:\n",
    "            names[clas][i] = {\n",
    "            \"quizes\":[], \n",
    "            \"grades\":[]\n",
    "        }\n",
    "        if exam not in names[clas][i][\"quizes\"]:\n",
    "            text += f'{i}\\n'\n",
    "    return text\n",
    "\n",
    "def getMissedExams(clas, name):\n",
    "    if clas not in names or name not in names[clas]:\n",
    "        return \"Not right\"\n",
    "    text = f\"MIssed Exams of {name}\"\n",
    "    arr = names[clas][name]['quizes']\n",
    "    arr1 = getExams(clas)\n",
    "    for i in arr1:\n",
    "        if i not in arr:\n",
    "            text+=f\"{i} \"\n",
    "    return arr1       \n",
    "\n",
    "def getGrades(clas, name):\n",
    "    if name in names[clas]:\n",
    "        text = f\"Grades of {name} from {clas}\\n\"\n",
    "        for i, x in list(zip(names[clas][name]['quizes'], names[clas][name]['grades'])):\n",
    "            text += f\"quiz:{i}\\tgrade:{x}\\n\"\n",
    "        return text\n",
    "    else:\n",
    "        return name + \" does not exist in the database\"\n",
    "\n",
    "def getAll(clas = \"cs2023\"):\n",
    "    text = f'Average of students of {clas}\\n'\n",
    "    for i in names[clas]:\n",
    "        arr = names[clas][i]['grades']\n",
    "        avg = sum(arr) / len(arr)\n",
    "        text += f'{i}:\\t{avg}\\n'\n",
    "    return text\n",
    "\n",
    "def Maxgradesforexams(clas = \"cs2023\"):\n",
    "    arr = {}\n",
    "    if clas not in names:\n",
    "        return \"No class like that\"\n",
    "    for name, data in names[clas].items():\n",
    "        for quiz, grades in zip(data['quizes'], data['grades']):\n",
    "            if quiz not in arr:\n",
    "                arr[quiz] = (name, grades)\n",
    "            else:\n",
    "                if arr[quiz][1]<grades or (arr[quiz][1]==grades and arr[quiz][0]<name):\n",
    "                    arr[quiz] = (name, grades)\n",
    "    text = f\"Max of all students in class {clas}\\n\"\n",
    "    for quiz, (named,score) in arr.items():\n",
    "        text+=f\"{quiz}\\t{named} {score}\\n\"\n",
    "    return text\n",
    "\n",
    "def getStatsStudents(exam, clas = 'cs2023'):\n",
    "    if clas not in names:\n",
    "        return \"Something is not right\"\n",
    "    counter = 0 \n",
    "    min = float('+inf')\n",
    "    max = float('-inf')\n",
    "    avg = 0\n",
    "    for i in names[clas]:\n",
    "        if exam not in names[clas][i]['quizes']:\n",
    "            avg += 0\n",
    "        else:\n",
    "            ind = names[clas][i]['quizes'].index(exam)\n",
    "            avg += names[clas][i]['grades'][ind]\n",
    "            counter += 1\n",
    "            if max < names[clas][i]['grades'][ind]:\n",
    "                max = names[clas][i]['grades'][ind]\n",
    "            if min> names[clas][i]['grades'][ind]:\n",
    "                min = names[clas][i]['grades'][ind]\n",
    "    avg = avg/len(names[clas])\n",
    "    return max,min,avg, counter\n",
    "\n",
    "def getAllstats():\n",
    "    text = \"\"\n",
    "    for clas in names:\n",
    "        text+=f\"\\nFor {clas}\\n\"\n",
    "        arr1 = getExams(clas)\n",
    "        for i in arr1:\n",
    "            max,min,avg,counter = getStatsStudents(i,clas)\n",
    "            text+=f\"for test {i}:\\tmax{max} min:\\t{min} avg:\\t{avg} students present {counter}\\n\"\n",
    "    return text\n",
    "\n",
    "def getExams(clas):\n",
    "    arr1 = []\n",
    "    for i in names[clas]:\n",
    "        for u, e in enumerate(names[clas][i]['quizes']):\n",
    "            if e not in arr1:\n",
    "                arr1.append(e)\n",
    "    return arr1\n",
    "\n",
    "def compare(clas1,clas2):\n",
    "    arr1 = getExams(clas1)\n",
    "    arr2 = getExams(clas2)\n",
    "    arr3 = {'max1':0,'min1':0,'avg1':0, 'counter':0}\n",
    "    arr4 = {'maxx2':0,'minn2':0,'avgg2':0, 'counterr2':0}\n",
    "    for i in arr1:\n",
    "        max,min,avg,counter = getStatsStudents(i, clas1)\n",
    "        arr3['max1']+=max\n",
    "        arr3['min1']+=min\n",
    "        arr3['avg1']+=avg\n",
    "        arr3['counter']+=counter\n",
    "       \n",
    "    for j in arr2:\n",
    "        maxx,minn,avgg,counterr = getStatsStudents(j, clas2)\n",
    "        arr4['maxx2']+=maxx\n",
    "        arr4['minn2']+=minn\n",
    "        arr4['avgg2']+=avgg\n",
    "        arr4['counterr2']+=counterr\n",
    "        result = f\"Difference between years {clas1} and {clas2}\"\n",
    "        for y, t in zip(arr3,arr4):\n",
    "            result += f\"{arr3[y]/len(arr3)-arr4[t]/len(arr4)}\\n\"\n",
    "    return result\n",
    "    \n",
    "        \n",
    "\n",
    "print(getAll(\"cs2023\"))\n",
    "print(getGrades(\"cs2024\",\"aziz\"))\n",
    "addGrade(\"cs2023\", \"Nasipa\", \"q1\", 100)\n",
    "print(getAll('cs2024'))\n",
    "print(Maxgradesforexams(\"cs2023\"))\n",
    "updateGrade(\"cs2023\",\"Nasipa\", 'q1', 80)\n",
    "print(Maxgradesforexams(\"cs2023\"))\n",
    "print(getAbsentStudents([\"Nasipa\", 'emil','Salma', \"Lola\", \"Yo\"], 'q2', 'cs2023'))\n",
    "print(getMissedExams('cs2023', 'Lola'))\n",
    "print(getStatsStudents('q1'))\n",
    "print(getAllstats())\n",
    "result = compare('cs2023', 'cs2024')\n",
    "print(result)"
   ]
  },
  {
   "cell_type": "code",
   "execution_count": null,
   "metadata": {},
   "outputs": [],
   "source": [
    "menu = {\"manti\":{\"price\": 200, \"porzia\": 10}, \"beshparmak\":{\"price\": 300, \"porzia\": 19}, \"pizza\":{\"price\": 600, \"porzia\": 5}}\n",
    "employees = {\"waiter\":{\"Nasipa\":{\"zarplata\":0, 'days': 0}}, 'povar': {\"Salma\":{\"zarplata\":0, 'days': 0}}}\n",
    "zarplata = {'waiter':1000, \"povar\":3000}\n",
    "zatrati = [0]\n",
    "pribil = [0]\n",
    "history = {}\n",
    "table_num = {1:{}, 2:{}, 3:{}, 4:{}, 5:{}}\n",
    "def rabotayut(profession, name,days):\n",
    "    if profession not in employees:\n",
    "        return \"No profession like that\"\n",
    "    if name not in employees[profession]:\n",
    "        return \"No employee like that\"\n",
    "    employees[profession][name]['days']+=days\n",
    "    employees[profession][name]['zarplata'] = employees[profession][name]['zarplata']+(zarplata[profession]*days)\n",
    "    zatrati[0]+= zarplata[profession]*days\n",
    "    pribil[0] -= zarplata[profession]*days\n",
    "    return f\"Zarplata za {days} dni: {zarplata[profession]*days}\"\n",
    "\n",
    "def novie_employee(name, profession):\n",
    "    if profession not in employees:\n",
    "        return \"No profession like that\"\n",
    "    employees[profession][name] = {\"zarplata\":0, 'days': 0}\n",
    "    return f\"{name} added na profession {profession}\"\n",
    "\n",
    "def novia_profession(profession, zarplataa):\n",
    "    if profession in employees:\n",
    "        return f\"{profession} already exists\"\n",
    "    employees[profession] = {}\n",
    "    zarplata[profession] = zarplataa\n",
    "    return f\"New profession {profession} added with a salary of {zarplataa}\"\n",
    "    \n",
    "def zakaz(table, food, porzia):\n",
    "    if food not in menu:\n",
    "        return \"No food like that\"\n",
    "    if table not in table_num:\n",
    "        return \"No table like that\"\n",
    "    r = menu[food]['porzia']\n",
    "    if r-porzia<0:\n",
    "        return f\"Only {r} porzia left\"\n",
    "    menu[food]['porzia'] -= porzia\n",
    "    table_num[table][food] = {\"skolko\":porzia, \"tsena\":porzia*menu[food]['price']}\n",
    "    history[food] = {\"skolko\":porzia, \"tsena\":porzia*menu[food]['price']}\n",
    "    return f\"{food} --> {porzia}\"\n",
    "\n",
    "def sale(table, dengi):\n",
    "    if table not in table_num:\n",
    "        return \"No table like that\"\n",
    "    sum = 0\n",
    "    text = f\"CHEQ OF TABLE {table}\\n\"\n",
    "    for x,i in table_num[table].items():\n",
    "        text+=f\"{x}*{i[\"skolko\"]} --> {i['tsena']}\\n\"\n",
    "        sum += i['tsena']\n",
    "    text+=f\"TOTAL: {sum}\\n\"\n",
    "    if dengi<sum:\n",
    "        text+=\"NOT ENOUGH MONEY\"\n",
    "    else:\n",
    "        text+=f\"THANK YOU\\nYour change:{dengi-sum}\"\n",
    "        pribil[0]+=sum\n",
    "        table_num[table] = {}\n",
    "    return text\n",
    "\n",
    "def getHistory():\n",
    "    pass\n",
    "def zabral_zarplatu(name):\n",
    "    pass\n",
    "def table_zakaz(name):\n",
    "    pass\n",
    "def statistics_employee(name):\n",
    "    pass\n",
    "    # return maxx,minn,avg\n",
    "\n",
    "while True:\n",
    "    z = input(\"robotayet,novi rabotnik,new profession, zakaz, sale: \")\n",
    "    if z == 'rabotayet':\n",
    "        profession = input(\"Profession: \")\n",
    "        name = input(\"name: \")\n",
    "        days = int(input(\"Days worked: \"))\n",
    "        print(rabotayut(profession, name,days))\n",
    "        print(employees)\n",
    "        print(zatrati)\n",
    "    elif z =='novi rabotnik':\n",
    "        name =input(\"name: \")\n",
    "        profession = input(\"Profession: \")\n",
    "        print(novie_employee(name,profession))\n",
    "        print(employees)\n",
    "    elif z == 'new profession':\n",
    "        profession = input(\"Profession: \")\n",
    "        zarplataa = int(input(\"Zarplata: \"))\n",
    "        novia_profession(profession, zarplataa)\n",
    "        print(zarplata)\n",
    "    elif z == 'zakaz':\n",
    "        table = int(input(\"Table: \"))\n",
    "        food = input(\"Food: \")\n",
    "        kol = int(input(\"How many porzia? \"))\n",
    "        print(zakaz(table,food,kol))\n",
    "        print(table_num)\n",
    "    elif z == 'sale':\n",
    "        table, dengi = int(input(\"Table num: \")), int(input(\"Dengi: \"))\n",
    "        print(sale(table, dengi))\n",
    "        print(pribil,table_num)\n",
    "    else:\n",
    "        break\n",
    "        "
   ]
  },
  {
   "cell_type": "code",
   "execution_count": 3,
   "metadata": {},
   "outputs": [
    {
     "name": "stdout",
     "output_type": "stream",
     "text": [
      "You booked seat number 13\n",
      "You booked seat number 15\n",
      "You booked seat number 16\n",
      "BOOKED\n",
      "13:booked\n",
      "15:booked\n",
      "16:booked\n",
      "\n"
     ]
    },
    {
     "ename": "ValueError",
     "evalue": "invalid literal for int() with base 10: ''",
     "output_type": "error",
     "traceback": [
      "\u001b[1;31m---------------------------------------------------------------------------\u001b[0m",
      "\u001b[1;31mValueError\u001b[0m                                Traceback (most recent call last)",
      "Cell \u001b[1;32mIn[3], line 34\u001b[0m\n\u001b[0;32m     32\u001b[0m c \u001b[38;5;241m=\u001b[39m \u001b[38;5;28minput\u001b[39m(\u001b[38;5;124m\"\u001b[39m\u001b[38;5;124mbook, cancel book, see booked: \u001b[39m\u001b[38;5;124m\"\u001b[39m)\n\u001b[0;32m     33\u001b[0m \u001b[38;5;28;01mif\u001b[39;00m c \u001b[38;5;241m==\u001b[39m \u001b[38;5;124m'\u001b[39m\u001b[38;5;124mbook\u001b[39m\u001b[38;5;124m'\u001b[39m:\n\u001b[1;32m---> 34\u001b[0m     seat \u001b[38;5;241m=\u001b[39m \u001b[38;5;28;43mint\u001b[39;49m\u001b[43m(\u001b[49m\u001b[38;5;28;43minput\u001b[39;49m\u001b[43m(\u001b[49m\u001b[38;5;124;43m\"\u001b[39;49m\u001b[38;5;124;43mChoose a seat: \u001b[39;49m\u001b[38;5;124;43m\"\u001b[39;49m\u001b[43m)\u001b[49m\u001b[43m)\u001b[49m\n\u001b[0;32m     35\u001b[0m     \u001b[38;5;28mprint\u001b[39m(book(seat))\n\u001b[0;32m     36\u001b[0m \u001b[38;5;28;01melif\u001b[39;00m c \u001b[38;5;241m==\u001b[39m \u001b[38;5;124m'\u001b[39m\u001b[38;5;124mcancel book\u001b[39m\u001b[38;5;124m'\u001b[39m:\n",
      "\u001b[1;31mValueError\u001b[0m: invalid literal for int() with base 10: ''"
     ]
    }
   ],
   "source": [
    "# Напишите программу для управления бронированием мест в самолете. Создайте массив на 100 мест (список), и реализуйте следующие функции:\n",
    "\n",
    "# Забронировать место: функция принимает номер места, проверяет, свободно ли оно, и, если да, бронирует его.\n",
    "\n",
    "# Отменить бронирование: функция принимает номер места и снимает бронь.\n",
    "\n",
    "# Показать список забронированных мест.\n",
    "\n",
    "seats = {}\n",
    "for i in range(100):\n",
    "    seats[i]=False\n",
    "\n",
    "def book(seat):\n",
    "    if seat not in seats:\n",
    "        return f\"No seat {seat}\"\n",
    "    if seats[seat] == False:\n",
    "        seats[seat] = True\n",
    "        return f\"You booked seat number {seat}\"\n",
    "    else:\n",
    "        return f'seat number {seat} is not available'\n",
    "\n",
    "def cancel_book(seat):\n",
    "    if seat not in seats:\n",
    "        return f\"No seat {seat}\"\n",
    "    if seats[seat] == True:\n",
    "        seats[seat] = False\n",
    "        return f\"Sad to lose a book like you\"\n",
    "    else:\n",
    "        return f\"That seat was not booked before\"\n",
    "    \n",
    "def booked():\n",
    "    text = \"BOOKED\\n\"\n",
    "    for seat,busy in seats.items():\n",
    "        if busy == True:\n",
    "            text+=f\"{seat}:booked\\n\"\n",
    "    return text\n",
    "            \n",
    "\n",
    "while True:\n",
    "    c = input(\"book, cancel book, see booked: \")\n",
    "    if c == 'book':\n",
    "        seat = int(input(\"Choose a seat: \"))\n",
    "        print(book(seat))\n",
    "    elif c == 'cancel book':\n",
    "        seat = int(input(\"Which seat: \"))\n",
    "        print(cancel_book(seat))\n",
    "    elif c == 'see booked':\n",
    "        print(booked())\n",
    "    else:\n",
    "        break"
   ]
  },
  {
   "cell_type": "code",
   "execution_count": null,
   "metadata": {},
   "outputs": [],
   "source": [
    "# Напишите программу для продажи билетов на концерт. Программа должна:\n",
    "\n",
    "# Позволять пользователю покупать билеты (максимум 5 билетов на одного человека).\n",
    "\n",
    "# Показывать количество оставшихся билетов (всего 100 билетов).\n",
    "\n",
    "# Показать список купленных билетов (с указанием, сколько купил каждый покупатель).\n",
    "\n",
    "tickets = []\n",
    "for i in range(100):\n",
    "    tickets.append(\"ticket\")\n",
    "    \n",
    "bought = {}\n",
    "i = [0]\n",
    "def buy_tickets(num):\n",
    "    if len(tickets) <= 0:\n",
    "        return f'No tickets left'\n",
    "    if num>5:\n",
    "        return f'Cant buy more than 5 tickets'\n",
    "    for o in range(num):\n",
    "        tickets.remove(\"ticket\")\n",
    "    i[0] += 1\n",
    "    bought[i[0]] = num\n",
    "    return f\"Bought {num} tickets\\n\"\n",
    "\n",
    "def bought_tickets():\n",
    "    text = \"BOUGHT:\\n\"\n",
    "    for i,x in bought.items():\n",
    "        text+=f\"{i} buyer bought {x} tickets\"\n",
    "    return text\n",
    "while True:\n",
    "    c = input(\"buy,left,who: \")\n",
    "    if c == 'buy':\n",
    "        num = int(input(\"How many do you wanna buy: \"))\n",
    "        print(buy_tickets(num))\n",
    "    elif c == 'left':\n",
    "        print(f\"tickets lef: {len(tickets)}\")\n",
    "    elif c == \"who\":\n",
    "        print(bought_tickets())\n",
    "    else:\n",
    "        break"
   ]
  },
  {
   "cell_type": "code",
   "execution_count": 15,
   "metadata": {},
   "outputs": [
    {
     "name": "stdout",
     "output_type": "stream",
     "text": [
      "{'USA': [14.0]}\n",
      "{'USA': [14.0, 20.0]}\n",
      "{'USA': [3.0, 14.0, 20.0]}\n",
      "{'USA': [3.0, 14.0, 20.0], 'China': [14.0]}\n",
      "{'USA': [3.0, 14.0, 20.0], 'China': [13.3, 14.0]}\n",
      "{'USA': [3.0, 14.0, 20.0], 'China': [2.0, 13.3, 14.0]}\n",
      "{'USA': [3.0, 14.0, 20.0], 'China': [2.0, 13.3, 14.0], 'Jpana': [15.0]}\n",
      "{'USA': 14.0, 'China': 14.0, 'Jpana': 15.0}\n"
     ]
    },
    {
     "ename": "ValueError",
     "evalue": "could not convert string to float: 'search'",
     "output_type": "error",
     "traceback": [
      "\u001b[1;31m---------------------------------------------------------------------------\u001b[0m",
      "\u001b[1;31mValueError\u001b[0m                                Traceback (most recent call last)",
      "Cell \u001b[1;32mIn[15], line 38\u001b[0m\n\u001b[0;32m     36\u001b[0m     \u001b[38;5;28mprint\u001b[39m(search(place))\n\u001b[0;32m     37\u001b[0m \u001b[38;5;28;01melif\u001b[39;00m c \u001b[38;5;241m==\u001b[39m \u001b[38;5;124m'\u001b[39m\u001b[38;5;124mnear\u001b[39m\u001b[38;5;124m'\u001b[39m:\n\u001b[1;32m---> 38\u001b[0m     time \u001b[38;5;241m=\u001b[39m \u001b[38;5;28;43mfloat\u001b[39;49m\u001b[43m(\u001b[49m\u001b[38;5;28;43minput\u001b[39;49m\u001b[43m(\u001b[49m\u001b[38;5;124;43m\"\u001b[39;49m\u001b[38;5;124;43mTime: \u001b[39;49m\u001b[38;5;124;43m\"\u001b[39;49m\u001b[43m)\u001b[49m\u001b[43m)\u001b[49m\n\u001b[0;32m     39\u001b[0m     \u001b[38;5;28mprint\u001b[39m(near(time))\n\u001b[0;32m     40\u001b[0m \u001b[38;5;28;01melse\u001b[39;00m:\n",
      "\u001b[1;31mValueError\u001b[0m: could not convert string to float: 'search'"
     ]
    }
   ],
   "source": [
    "reis = {}\n",
    "def add_(place,time):\n",
    "    if place not in reis:\n",
    "        reis[place] = []\n",
    "    reis[place].append(time)\n",
    "    reis[place].sort()\n",
    "    return reis\n",
    "    \n",
    "def search(place):\n",
    "    text = \"REISI\\n\"\n",
    "    if place not in reis:\n",
    "        return \"No place like that\"\n",
    "    for x in reis[place]:\n",
    "            text+=f\"{place}:{x}\\n\"\n",
    "    return text\n",
    "\n",
    "def near(time):\n",
    "    pla = {}\n",
    "    for i in reis:\n",
    "        for x in reis[i]:\n",
    "            if x>time:\n",
    "                pla[i] = x\n",
    "                break\n",
    "            else:\n",
    "                pla[i] = [reis[i][0]]\n",
    "    return pla\n",
    "\n",
    "while True:\n",
    "    c = input(\"add,search,near: \")\n",
    "    if c=='add':\n",
    "        place = input('Place: ')\n",
    "        time = float(input(\"Time: \"))\n",
    "        print(add_(place,time))\n",
    "    elif c == 'search':\n",
    "        place = input('Place: ')\n",
    "        print(search(place))\n",
    "    elif c == 'near':\n",
    "        time = float(input(\"Time: \"))\n",
    "        print(near(time))\n",
    "    else:\n",
    "        break\n",
    "    "
   ]
  },
  {
   "cell_type": "code",
   "execution_count": 2,
   "metadata": {},
   "outputs": [
    {
     "name": "stdout",
     "output_type": "stream",
     "text": [
      "{3: 7, 4: 18, 5: 28, 6: 50, 7: 59, 8: 82, 9: 95, 10: 149, 11: 126, 12: 125, 13: 87, 14: 71, 15: 49, 16: 31, 17: 15, 18: 8}\n"
     ]
    }
   ],
   "source": [
    "import random\n",
    "m = int(input(\"How many dices: \"))\n",
    "n = int(input(\"How many rolls: \"))\n",
    "ar = {}\n",
    "for i in range(m,m*6+1):\n",
    "    ar[i] = 0\n",
    "\n",
    "for i in range(n):\n",
    "    c = 0\n",
    "    for j in range(m):\n",
    "        a= random.randint(1,6)\n",
    "        c+=a\n",
    "    for u in ar:\n",
    "        if u == c:\n",
    "            ar[u]+=1\n",
    "            \n",
    "print(ar)"
   ]
  },
  {
   "cell_type": "code",
   "execution_count": 15,
   "metadata": {},
   "outputs": [
    {
     "name": "stdout",
     "output_type": "stream",
     "text": [
      "3 0.09375\n"
     ]
    }
   ],
   "source": [
    "import random\n",
    "boy = int(input(\"How many boys will you think will be born: \"))\n",
    "kol = 0\n",
    "while kol!=boy:\n",
    "    c+=1\n",
    "    a = random.randint(0,1)\n",
    "    if a==1:\n",
    "        kol +=1\n",
    "print(kol,kol/c)"
   ]
  },
  {
   "cell_type": "code",
   "execution_count": 13,
   "metadata": {},
   "outputs": [
    {
     "name": "stdout",
     "output_type": "stream",
     "text": [
      "added Rowling Harry Potter 1990\n",
      "added Rowling Harry 2 2000\n",
      "added Oruel Swine 1800\n",
      "added Gogol Idiot 2010\n",
      "Harry Potter: Author: Rowling, year: 1990\n",
      "{'Harry Potter': 1990, 'Harry 2': 2000}\n",
      "{1800: {'Oruel': 'Swine'}, 1990: {'Rowling': 'Harry Potter'}, 2000: {'Rowling': 'Harry 2'}, 2010: {'Gogol': 'Idiot'}}\n"
     ]
    }
   ],
   "source": [
    "books = {}\n",
    "def add_books(author,book,year):\n",
    "    books[author] = books.get(author,{})\n",
    "    books[author][book] = year\n",
    "    return f\"added {author} {book} {year}\"\n",
    "    \n",
    "def search(book):\n",
    "    for i in books:\n",
    "        if book in books[i]:\n",
    "            return f\"{book}: Author: {i}, year: {books[i][book]}\"\n",
    "        else:\n",
    "            return \"No book like that\"\n",
    "def au_search(author):\n",
    "    s = books.get(author, \"This author does not exist\")    \n",
    "    return s\n",
    "\n",
    "def s_year():\n",
    "    arr = {}\n",
    "    years = []\n",
    "    arr2 = {}\n",
    "    for i, x in books.items():\n",
    "        for o in x:\n",
    "            arr[books[i][o]] = {}\n",
    "            arr[books[i][o]][i] = o\n",
    "    for i in arr:\n",
    "        years.append(i)\n",
    "    years.sort()\n",
    "    for i in years:\n",
    "        arr2[i] = {}\n",
    "        arr2[i] = arr[i]\n",
    "    return arr2\n",
    "\n",
    "print(add_books(\"Rowling\", \"Harry Potter\", 1990))\n",
    "print(add_books(\"Rowling\", \"Harry 2\", 2000))\n",
    "print(add_books(\"Oruel\", \"Swine\", 1800))\n",
    "print(add_books(\"Gogol\", \"Idiot\", 2010))\n",
    "print(search(\"Harry Potter\"))\n",
    "print(au_search(\"Rowling\"))\n",
    "print(s_year())\n",
    "        "
   ]
  },
  {
   "cell_type": "code",
   "execution_count": 30,
   "metadata": {},
   "outputs": [
    {
     "name": "stdout",
     "output_type": "stream",
     "text": [
      "added AA123 on mesto 13\n",
      "added BB456 on mesto 15\n",
      "[False, False, False, False, False, False, False, False, False, False, False, False, 'AA123', False, 'BB456', False, False, False, False, False, False, False, False, False, False, False, False, False, False, False, False, False, False, False, False, False, False, False, False, False, False, False, False, False, False, False, False, False, False, False]\n",
      "BB456 removed\n",
      "[False, False, False, False, False, False, False, False, False, False, False, False, 'AA123', False, False, False, False, False, False, False, False, False, False, False, False, False, False, False, False, False, False, False, False, False, False, False, False, False, False, False, False, False, False, False, False, False, False, False, False]\n",
      "free parking slots 48\n",
      "Cars parked ['AA123']\n"
     ]
    }
   ],
   "source": [
    "parkovka = [False]*50\n",
    "def add_car(num,car):\n",
    "    for i,_ in enumerate(parkovka):\n",
    "        if i == num-1:\n",
    "            parkovka[i] = car\n",
    "    return f\"added {car} on mesto {num}\"\n",
    "            \n",
    "def delete(car):\n",
    "    parkovka.remove(car)\n",
    "    return f\"{car} removed\"\n",
    "            \n",
    "def free():\n",
    "    c = 0\n",
    "    arr = []\n",
    "    for x in parkovka:\n",
    "        if x == False:\n",
    "            c+=1\n",
    "        else:\n",
    "            arr.append(x)\n",
    "    return f\"free parking slots {c}\\nCars parked {arr}\"\n",
    "\n",
    "print(add_car(13, \"AA123\"))\n",
    "print(add_car(15, \"BB456\"))\n",
    "print(parkovka)\n",
    "print(delete(\"BB456\"))\n",
    "print(parkovka)\n",
    "print(free())\n",
    "    "
   ]
  },
  {
   "cell_type": "code",
   "execution_count": 4,
   "metadata": {},
   "outputs": [
    {
     "name": "stdout",
     "output_type": "stream",
     "text": [
      "{3: {'Math': '12:30'}}\n",
      "{3: {'Math': '12:30'}, 5: {'Math': '8:30'}}\n",
      "{3: {'Math': '12:30'}, 5: {'Math': '8:30', 'Russian': '9:30'}}\n",
      "{3: {'Math': '12:30', 'Kyrgyz': '9:00'}, 5: {'Math': '8:30', 'Russian': '9:30'}}\n",
      "{3: {'Math': '12:30', 'Kyrgyz': '9:00'}, 5: {'Math': '8:30', 'Russian': '9:30'}, 2: {'Russian': '17:45'}}\n",
      "{'Math': '12:30', 'Kyrgyz': '9:00'}\n",
      "{'Math': '8:30', 'Russian': '9:30'}\n",
      "{'Russian': '17:45'}\n",
      "Math: {3: '12:30', 5: '8:30'}\n"
     ]
    }
   ],
   "source": [
    "schedule = {}\n",
    "def add_subjects(subject, day, start):\n",
    "    schedule[day] = schedule.get(day,{})\n",
    "    schedule[day][subject] = start\n",
    "    return schedule\n",
    "\n",
    "    \n",
    "def show(day):\n",
    "    return schedule[day]\n",
    "\n",
    "def search(subject):\n",
    "    lol = {}\n",
    "    for i,x in schedule.items():\n",
    "        for u in x:\n",
    "            if u == subject:\n",
    "                lol[i] = schedule[i][u]\n",
    "    return f\"{subject}: {lol}\"\n",
    "\n",
    "print(add_subjects(\"Math\", 3, \"12:30\"))\n",
    "print(add_subjects(\"Math\", 5, \"8:30\"))\n",
    "print(add_subjects(\"Russian\", 5, \"9:30\"))\n",
    "print(add_subjects(\"Kyrgyz\", 3, \"9:00\"))\n",
    "print(add_subjects(\"Russian\", 2, \"17:45\"))\n",
    "print(show(3))\n",
    "print(show(5))\n",
    "print(show(2))\n",
    "print(search(\"Math\"))\n",
    "\n"
   ]
  },
  {
   "cell_type": "code",
   "execution_count": 24,
   "metadata": {},
   "outputs": [
    {
     "name": "stdout",
     "output_type": "stream",
     "text": [
      "Harry Potter: {'available': 2, 'author': 'Rowling', 'year': 1855, 'initial': 2}\n",
      "Added idiot:dostoevski\n",
      "{'1984': {'available': 3, 'author': 'London', 'year': 1900, 'initial': 3}, 'Harry Potter': {'available': 2, 'author': 'Rowling', 'year': 1855, 'initial': 2}, 'idiot': {'available': 1, 'author': 'dostoevski', 'year': 1911, 'initial': 1}}\n",
      "Borrowed 1984\n",
      "Borrowed 1984\n",
      "1984 was returned\n",
      "['1984', 'Harry Potter', 'idiot']\n",
      "Added Prestuplenie:dostoevski\n",
      "dostoevski:{'idiot': [1, 1911], 'Prestuplenie': [2, 1812]}\n",
      "Borrowed books 1\n",
      "removed\n",
      "{'1984': {'available': 2, 'author': 'London', 'year': 1900, 'initial': 3}, 'Harry Potter': {'available': 2, 'author': 'Rowling', 'year': 1855, 'initial': 2}, 'Prestuplenie': {'available': 2, 'author': 'dostoevski', 'year': 1812, 'initial': 2}}\n",
      "1984 --> 1\n",
      "Prestuplenie oldest: 1812\n"
     ]
    }
   ],
   "source": [
    "library= {\n",
    "\"1984\":{   \n",
    "  \"available\": 3,\n",
    "  \"author\": \"London\",\n",
    "  \"year\":1900,\n",
    "  'initial':3},\n",
    "\"Harry Potter\":{\n",
    "  \"available\": 2,\n",
    "  \"author\": \"Rowling\",\n",
    "  \"year\":1855,\n",
    "  'initial':2}\n",
    "}\n",
    "def add_book(book, author, year, count):\n",
    "  if book in library:\n",
    "    library[book]['available'] +=count\n",
    "    library[book]['initial'] +=count\n",
    "    return \"Added {count} more {book}\"\n",
    "  library[book] = {\"available\": count, \"author\":author, \"year\":year, \"initial\":count}\n",
    "  return f\"Added {book}:{author}\"\n",
    "\n",
    "def search(book):\n",
    "    s = library.get(book, \"No book like that\")\n",
    "    return f\"{book}: {s}\"\n",
    "def borrow(book):\n",
    "  if book not in library:\n",
    "      return \"No book like that\"\n",
    "  if library[book]['available'] > 0:\n",
    "      library[book]['available'] -=1\n",
    "      return f\"Borrowed {book}\"\n",
    "  else:\n",
    "       return f\"{book} not enough in the library\"\n",
    "def return_book(book):\n",
    "  if book not in library:\n",
    "      return \"No book like that\"\n",
    "  library[book][\"available\"] +=1\n",
    "  return f\"{book} was returned\"\n",
    "\n",
    "def list_available():\n",
    "  av = []\n",
    "  for i, x in library.items():\n",
    "      if x[\"available\"]>0:\n",
    "          av.append(i)\n",
    "  return av\n",
    "def find_author(author):\n",
    "  au= {}\n",
    "  for i,x in library.items():\n",
    "      if x['author'] == author:\n",
    "          au[i] = [x[\"available\"], x[\"year\"]]\n",
    "  return f\"{author}:{au}\"\n",
    "def count_borrowed():\n",
    "  c = 0\n",
    "  for i,x in library.items():\n",
    "      if x['available']<x['initial'] :\n",
    "          c+=1\n",
    "  return f\"Borrowed books {c}\"\n",
    "\n",
    "def remove(book):\n",
    "  if book not in library:\n",
    "      return \"The book is not in library\"\n",
    "  library.pop(book)\n",
    "  return \"removed\"\n",
    "def find_max():\n",
    "  m = 0\n",
    "  for i,x in library.items():\n",
    "      if x['initial']-x['available']>m:\n",
    "          m = x['initial']-x['available']\n",
    "          b = i\n",
    "  return f\"{b} --> {m}\"\n",
    "def find_oldest():\n",
    "  ar = float(\"+inf\")\n",
    "  for i,x in library.items():\n",
    "      if library[i]['year']<=ar:\n",
    "          ar = library[i]['year']\n",
    "          b = i\n",
    "  return f\"{b} oldest: {ar}\"\n",
    "\n",
    "print(search(\"Harry Potter\"))\n",
    "print(add_book(\"idiot\",\"dostoevski\", 1911,1))\n",
    "print(library)\n",
    "print(borrow(\"1984\"))\n",
    "print(borrow('1984'))\n",
    "print(return_book(\"1984\"))\n",
    "print(list_available())\n",
    "print(add_book(\"Prestuplenie\",\"dostoevski\",1812,2))\n",
    "print(find_author(\"dostoevski\"))\n",
    "print(count_borrowed())\n",
    "print(remove(\"idiot\"))\n",
    "print(library)\n",
    "print(find_max())\n",
    "print(find_oldest())"
   ]
  },
  {
   "cell_type": "code",
   "execution_count": 10,
   "metadata": {},
   "outputs": [
    {
     "name": "stdout",
     "output_type": "stream",
     "text": [
      "20240910\n",
      "['Nasipa', 'Gulnur']\n"
     ]
    }
   ],
   "source": [
    "salons = {\"salon1\":{\"Nasipa\":{\"service\":\"stizhka\", 'date':\"2024-09-10\"}, \"Gulnur\":{\"service\":\"hair\", 'date':\"2023-11-29\"}}}\n",
    "def find(salon):\n",
    "    m = float('-inf')\n",
    "    for i in salons[salon]:\n",
    "        a,b,c = salons[salon][i]['date'].split(\"-\")\n",
    "        r = int(a+b+c)\n",
    "        if r>m:\n",
    "            m = r\n",
    "    return m\n",
    "print(find(\"salon1\"))\n",
    "\n",
    "def f(salon,start_date,end_date):\n",
    "    n = []\n",
    "    for i in salons[salon]:\n",
    "        if start_date<=salons[salon][i]['date']<=end_date:\n",
    "            n.append(i)\n",
    "    return n\n",
    "\n",
    "print(f('salon1', '2023-11-09', '2025-10-23'))"
   ]
  },
  {
   "cell_type": "code",
   "execution_count": 8,
   "metadata": {},
   "outputs": [
    {
     "name": "stdout",
     "output_type": "stream",
     "text": [
      "12\n"
     ]
    }
   ],
   "source": [
    "\n",
    "def NOD(a,b):\n",
    "    r = 1\n",
    "    while r!=0:\n",
    "        r = a%b\n",
    "        a = b\n",
    "        b = r\n",
    "    return a\n",
    "print(NOD(48, 12))"
   ]
  },
  {
   "cell_type": "code",
   "execution_count": 24,
   "metadata": {},
   "outputs": [
    {
     "name": "stdout",
     "output_type": "stream",
     "text": [
      "10\n"
     ]
    }
   ],
   "source": [
    "#Ну вроде работает но не работает\n",
    "def NOD(a,b):\n",
    "    while b!=0:\n",
    "        a,b = b,a%b\n",
    "    return a\n",
    "print(NOD(10, 90))"
   ]
  },
  {
   "cell_type": "code",
   "execution_count": 4,
   "metadata": {},
   "outputs": [
    {
     "name": "stdout",
     "output_type": "stream",
     "text": [
      "[2, 3, 3]\n"
     ]
    }
   ],
   "source": [
    "def prime(a):\n",
    "    end = []\n",
    "    i=2\n",
    "    while a!=1:\n",
    "        if a%i ==0:\n",
    "            a = a//i\n",
    "            end.append(i)\n",
    "            i = 2\n",
    "        else:\n",
    "            i+=1\n",
    "    return end\n",
    "print(prime(18))\n",
    "            "
   ]
  },
  {
   "cell_type": "code",
   "execution_count": 6,
   "metadata": {},
   "outputs": [
    {
     "name": "stdout",
     "output_type": "stream",
     "text": [
      "16 is a power of 2\n"
     ]
    }
   ],
   "source": [
    "def power(a):\n",
    "    i = a\n",
    "    while a!=1:\n",
    "        r = a%2\n",
    "        if r ==1:\n",
    "            break\n",
    "        a = a/2\n",
    "    if a !=1:\n",
    "        return f\"{i} is not a power of 2\"\n",
    "    else:\n",
    "        return f\"{i} is a power of 2\"\n",
    "    \n",
    "print(power(16))"
   ]
  },
  {
   "cell_type": "code",
   "execution_count": 3,
   "metadata": {},
   "outputs": [
    {
     "ename": "NameError",
     "evalue": "name 'pokupatel' is not defined",
     "output_type": "error",
     "traceback": [
      "\u001b[1;31m---------------------------------------------------------------------------\u001b[0m",
      "\u001b[1;31mNameError\u001b[0m                                 Traceback (most recent call last)",
      "Cell \u001b[1;32mIn[3], line 276\u001b[0m\n\u001b[0;32m    256\u001b[0m     \u001b[38;5;28;01mreturn\u001b[39;00m m\n\u001b[0;32m    261\u001b[0m \u001b[38;5;66;03m#1,2,3,4,5,6,7,8,9,10,11,12,13,     15,16,17,18,19,20 same as 13, 21, 22 не понятно, 23,24,25,26,27,28,29,30\u001b[39;00m\n\u001b[0;32m    262\u001b[0m \u001b[38;5;66;03m# print('(1)',sum)\u001b[39;00m\n\u001b[0;32m    263\u001b[0m \u001b[38;5;66;03m# print('(3)', mx, ':', product, 'shtuck:',tovar[product]['kol'])\u001b[39;00m\n\u001b[1;32m   (...)\u001b[0m\n\u001b[0;32m    274\u001b[0m \u001b[38;5;66;03m# print(eighteen())\u001b[39;00m\n\u001b[0;32m    275\u001b[0m \u001b[38;5;66;03m# print(tthree())\u001b[39;00m\n\u001b[1;32m--> 276\u001b[0m \u001b[38;5;28mprint\u001b[39m(tfive(\u001b[43mpokupatel\u001b[49m))\n\u001b[0;32m    277\u001b[0m \u001b[38;5;66;03m# print(tsix())\u001b[39;00m\n\u001b[0;32m    278\u001b[0m \u001b[38;5;66;03m# print(tseven())\u001b[39;00m\n\u001b[0;32m    279\u001b[0m \u001b[38;5;66;03m# print(teight())\u001b[39;00m\n\u001b[0;32m    280\u001b[0m \u001b[38;5;66;03m# print(tnine())\u001b[39;00m\n\u001b[0;32m    281\u001b[0m \u001b[38;5;66;03m# print(thirty())\u001b[39;00m\n",
      "\u001b[1;31mNameError\u001b[0m: name 'pokupatel' is not defined"
     ]
    }
   ],
   "source": [
    "from csv import reader\n",
    "file = open('synthetic_data_real_products[1].csv', 'r')\n",
    "file_reader = reader(file)\n",
    "copy = [i for i in file_reader]\n",
    "things = None\n",
    "dlina = 0\n",
    "mx = float('-inf')\n",
    "product = None\n",
    "for row in file_reader:\n",
    "    if not things:\n",
    "        things = row\n",
    "        sum =0\n",
    "        pokupatel = {}\n",
    "        tovar = {}\n",
    "        razni_tovari = {}\n",
    "        chelik = {}\n",
    "        date = {}\n",
    "    else:\n",
    "        row3 = float(row[3])\n",
    "        sum += row3\n",
    "        pokupatel[row[1]] = pokupatel.get(row[1], {'kupil': 0, 'dengi': 0}) #сколько раз пришел человек и сколько он потратил\n",
    "        pokupatel[row[1]]['kupil'] += 1\n",
    "        pokupatel[row[1]]['dengi'] += row3\n",
    "        tovar[row[2]] = tovar.get(row[2], {'kol': 0, 'dengi': 0}) #сколько раз купили товар, и сколько он принес прибыли\n",
    "        tovar[row[2]]['kol'] += 1\n",
    "        tovar[row[2]]['dengi'] += row3\n",
    "        dlina+=1\n",
    "        #3\n",
    "        if mx< row3:\n",
    "            mx = row3\n",
    "            product = row[2]\n",
    "        #7\n",
    "        razni_tovari[row[1]] = razni_tovari.get(row[1], [])\n",
    "        if row[2] not in razni_tovari[row[1]]:\n",
    "            razni_tovari[row[1]].append(row[2])\n",
    "        #4\n",
    "        date[row[0]] = date.get(row[0], {'pokupki': 0, 'tsena': 0})\n",
    "        date[row[0]]['pokupki'] +=1\n",
    "        date[row[0]]['tsena'] +=row3\n",
    "file.close()\n",
    "\n",
    "def pokupki_max():\n",
    "    m = float('-inf')\n",
    "    p = float('-inf')\n",
    "    imya = None\n",
    "    imya2 = None\n",
    "    pokup = 0\n",
    "    text = \"AVERAGE OF POKUPKI\\n\"\n",
    "    for i, x in pokupatel.items():\n",
    "        if m < x['kupil']:\n",
    "            m = x['kupil']\n",
    "            imya = i\n",
    "        if p < x['dengi']:\n",
    "            p = x['dengi']\n",
    "            imya2 = i\n",
    "        if x['kupil']>10:\n",
    "            pokup+=1\n",
    "        text+= f'{i}: {x['dengi']/x['kupil']}\\n'\n",
    "    return f\"{imya}(2): {m}\\npotratili(9):{imya2} {pokupatel[imya2]['dengi']}\\n(10){text}\\nБольше 10 покупок: {pokup}\"\n",
    "\n",
    "def tovari():\n",
    "    m = float('-inf')\n",
    "    p = float('-inf')\n",
    "    t = None\n",
    "    c =  None\n",
    "    text1 = 'Средняя стоимость по каждому товару:\\n'\n",
    "    text = 'TOVARI\\n'\n",
    "    tov = 0\n",
    "    for i, x in tovar.items():\n",
    "        text +=f'{i}: {x['kol']}\\n'\n",
    "        text1+=f\"{i}: {x['dengi']/x['kol']}\\n\"\n",
    "        if m < x['kol']:\n",
    "            m = x['kol']\n",
    "            t = i\n",
    "        if p< x['dengi']:\n",
    "            p = x['dengi']\n",
    "            c = i  \n",
    "        if x['dengi']>1000:\n",
    "            tov+=1\n",
    "        if x['dengi']>5000:\n",
    "            to+=1\n",
    "    return f\"(15){t}: {m}\\nNaibulshaya viruchka(6): {c} {p}\\n(11){text}\\n(16){text1}\\nТоваров продано больше чем на 1000: {tov}\\nТоваров продано больше чем на 5000: {to}\"\n",
    "\n",
    "def seven():\n",
    "    text = \"RAZNI TOVARI\\n\"\n",
    "    for i in razni_tovari:\n",
    "        dlin = len(razni_tovari[i])\n",
    "        text+= f'{i}: {dlin}\\n'\n",
    "    return text\n",
    "\n",
    "def ten():\n",
    "    text = \"SREDNIYA CENA POKUPKI\\n\"\n",
    "    for i in chelik:\n",
    "        dlin = len(chelik[i])\n",
    "        text+= f'{i} --> {dlin}\\n'\n",
    "    return text\n",
    "\n",
    "def four():\n",
    "    m = 0\n",
    "    v = None\n",
    "    for i, x in date.items():\n",
    "        if m < x['pokupki']:\n",
    "            m = x['pokupki']\n",
    "            v = i\n",
    "    return f'{v}: {m}'\n",
    "\n",
    "def eight():\n",
    "    sort = sorted(pokupatel.items(), key=lambda pokupki:pokupki[1]['kupil'])\n",
    "    return sort[-5:]\n",
    "        \n",
    "def twelve():\n",
    "    t = {}\n",
    "    text = \"MAX AND MIN FOR THE TOVAR\\n\"\n",
    "    for i in copy[1:]:\n",
    "        t[i[2]]=t.get(i[2], [])\n",
    "        t[i[2]].append(float(i[3]))\n",
    "    for i in t:\n",
    "        t[i].sort()\n",
    "        text+=f'{i}-->\\tmax:{t[i][-1]} min:{t[i][0]}\\n'\n",
    "    return text\n",
    "\n",
    "def thirteen():\n",
    "    d = {}\n",
    "    date_sorted = sorted(date.items())\n",
    "    o = 0\n",
    "    month = None\n",
    "    year = None\n",
    "    for i,x in date_sorted:\n",
    "        d[i[0:4]] = d.get(i[0:4],{})\n",
    "        d[i[0:4]][i[5:7]] = d[i[0:4]].get(i[5:7],0)\n",
    "        d[i[0:4]][i[5:7]]+=date[i]['tsena']\n",
    "    for i,x in d.items():\n",
    "        for m in x:\n",
    "            if o<x[m]:\n",
    "                o = x[m]\n",
    "                month = m\n",
    "                year = i\n",
    "    text = f\"{i}-{month}: {o}\"\n",
    "    return text, d\n",
    "\n",
    "def seventeen():\n",
    "    skoko = 0\n",
    "    t = []\n",
    "    for i in tovar:\n",
    "        if i not in t:\n",
    "            t.append(i)\n",
    "            skoko+=1\n",
    "    return skoko\n",
    "            \n",
    "def eighteen():\n",
    "    l = len(copy[1:])%2\n",
    "    l1 = int(len(copy[1:])/2)\n",
    "    if l == 0:\n",
    "        l2 = l1+1\n",
    "        return f'{copy[l1][3]} and {copy[l2][3]}'\n",
    "    else:\n",
    "        return f'{copy[l1][3]}'\n",
    "\n",
    "def tthree():\n",
    "    text,d = thirteen()\n",
    "    g = {}\n",
    "    for i,x in d.items():\n",
    "        g[i] = 0\n",
    "        for u in x:\n",
    "            g[i]+=x[u]\n",
    "    return g\n",
    "\n",
    "def tfive():\n",
    "    sort = sorted(pokupatel.items(), key=lambda pokupki:pokupki[1]['kupil'])\n",
    "    su = 0\n",
    "    sum = 0\n",
    "    s = int(len(sort)*0.9)\n",
    "    for _, x in sort[s:]:\n",
    "        su +=x['kupil']\n",
    "    for _,x in sort:\n",
    "        sum +=x['kupil']\n",
    "    return (su/sum)*100\n",
    "\n",
    "def tsix():\n",
    "    sort = sorted(tovar.items(), key=lambda kol:kol[1]['kol'])\n",
    "    return sort[0]\n",
    "        \n",
    "def tseven():\n",
    "    t = {}\n",
    "    for i in copy[1:]:\n",
    "        if i[2] not in t:\n",
    "            t[i[2]] = 0\n",
    "        if float(i[3])>500:\n",
    "            t[i[2]]+=1\n",
    "    return f\"ТОВАР СКОЛЬКО РАЗ БОЛЬШЕ 500 БЫЛ ПРОДАН\\n{t}\"\n",
    "\n",
    "def teight():\n",
    "    avg = {}\n",
    "    text = \"СРЕДНЯЯ СТОИМОСТЬ ЗА КАЖДЫЙ МЕСЯЦ:\\n\"\n",
    "    for i in copy[1:]:\n",
    "        if i[0][0:7] not in avg:\n",
    "            avg[i[0][0:7]] = {\"kol\":0, \"dengi\": 0}\n",
    "        avg[i[0][0:7]]['kol']+=1\n",
    "        avg[i[0][0:7]]['dengi']+=float(i[3])\n",
    "    for i in avg:\n",
    "        av = avg[i]['dengi']/avg[i]['kol']\n",
    "        text+=f\"{i}: {av}\\n\"\n",
    "    return text\n",
    "\n",
    "def tnine():\n",
    "    d = {}\n",
    "    date_sorted = sorted(date.items())\n",
    "    for i,x in date_sorted:\n",
    "        d[i[0:4]] = d.get(i[0:4],{})\n",
    "        d[i[0:4]][i[5:7]] = d[i[0:4]].get(i[5:7],0) +1\n",
    "    year = None\n",
    "    years = []\n",
    "    for i in d:\n",
    "        years.append(int(i))\n",
    "    year = str(years[-1])\n",
    "    dl = len(d[year])\n",
    "    li = list(d[year])\n",
    "    li_v = []\n",
    "    for i in li:\n",
    "        li_v.append(d[year][i])\n",
    "    text =\"LAST SIX MONTHS:\\n\"\n",
    "    if dl<6:\n",
    "        yeari = str(int(year)-1)\n",
    "        l = 6 - dl\n",
    "        li2 = list(d[yeari])\n",
    "        li_v2 = []\n",
    "        for i in li2:\n",
    "            li_v2.append(d[year][i])\n",
    "        for i,x in zip(li2[-l:],li_v2[-l:]):\n",
    "            text+=f\"{i}:{x}\\n\"\n",
    "        for i,x in zip(li,li_v):\n",
    "            text+= f\"{i}:{x}\\n\"\n",
    "            return text\n",
    "    else:\n",
    "        for i,x in zip(li[-6:],li_v[-6:]):\n",
    "            text+= f\"{i}:{x}\\n\"\n",
    "        return text\n",
    "        \n",
    "def thirty():\n",
    "    d = {}\n",
    "    date_sorted = sorted(date.items())\n",
    "    for i,x in date_sorted:\n",
    "        d[i[0:7]] = {}\n",
    "    for i in copy[1:]:\n",
    "        d[i[0][0:7]][i[2]] = d[i[0][0:7]].get(i[2], 0)\n",
    "        d[i[0][0:7]][i[2]]+=float(i[3])\n",
    "    m = {}\n",
    "    n = None\n",
    "    for i,x in d.items():\n",
    "        mx = 0\n",
    "        for o in x:\n",
    "            if x[o]>mx:\n",
    "                mx = x[o]\n",
    "                n = o\n",
    "            m[i] = [n,mx]\n",
    "    return m\n",
    "        \n",
    "\n",
    "            \n",
    "    \n",
    "#1,2,3,4,5,6,7,8,9,10,11,12,13,     15,16,17,18,19,20 same as 13, 21, 22 не понятно, 23,24,25,26,27,28,29,30\n",
    "# print('(1)',sum)\n",
    "# print('(3)', mx, ':', product, 'shtuck:',tovar[product]['kol'])\n",
    "# print(pokupki_max())\n",
    "# print(tovari())\n",
    "# print('(5)', sum/dlina)\n",
    "# print(seven())\n",
    "# print('(4)',four())\n",
    "# print(eight())\n",
    "# print(twelve())\n",
    "# text,d = thirteen()\n",
    "# print(text)\n",
    "# print(seventeen())\n",
    "# print(eighteen())\n",
    "# print(tthree())\n",
    "print(tfive(pokupatel))\n",
    "# print(tsix())\n",
    "# print(tseven())\n",
    "# print(teight())\n",
    "# print(tnine())\n",
    "# print(thirty())"
   ]
  },
  {
   "cell_type": "code",
   "execution_count": 35,
   "metadata": {},
   "outputs": [
    {
     "name": "stdout",
     "output_type": "stream",
     "text": [
      "{'123': 3}\n"
     ]
    }
   ],
   "source": [
    "a = \"123\"\n",
    "b={}\n",
    "b[a[0:3]]=3\n",
    "print(b)"
   ]
  },
  {
   "cell_type": "code",
   "execution_count": null,
   "metadata": {},
   "outputs": [],
   "source": [
    "from csv import reader\n",
    "from datetime import datetime\n",
    "from collections import defaultdict\n",
    "fid =  open('mbank_short[1].csv', 'r')\n",
    "fid = reader(fid)\n",
    "next(fid)\n",
    "file = [row for row in fid if len(row)>0]\n",
    "file1 = sorted(file, key=lambda x: x[0])\n",
    "kurs = {\"KYRGYZ SOM\": 1, 'RUSSIAN RUBLE':0.88 , 'UNITED STATES DOLLAR': 85.5, 'KAZAKH TENGE': 0.18, \"EUROPEAN EURO\": 92.37}\n",
    "# print(file1)\n",
    "file2 = reader(open('users[1].csv'))\n",
    "users = {}\n",
    "for i in file2:\n",
    "    if len(i) > 0:\n",
    "        id, name = i\n",
    "        users[id] = name\n",
    "        \n",
    "file3 = reader(open('currencies[1].csv'))\n",
    "currencies = {}\n",
    "for i in file3:\n",
    "    if len(i) > 0:\n",
    "        id, currency = i\n",
    "        currencies[id] = currency\n",
    "            \n",
    "# 1. История транзакций для каждого пользователя\n",
    "# Задача: Сформировать хронологический список транзакций для каждого пользователя с указанием даты, суммы, валюты и отправителя/получателя.\n",
    "def history(user):\n",
    "    text = f\"{user} HISTORY:\\n\"\n",
    "    for t, from_id, to_id, amount, cid in file1:\n",
    "        if users[from_id] == user or users[to_id] == user:\n",
    "            text+= f\"{t}: {users[from_id]}--> {users[to_id]}-->{currencies[cid]}:{amount}\\n\"\n",
    "    return text\n",
    "# print(history(\"Emil Bilgazyev\"))\n",
    "    \n",
    "# 2. Топ-5 пользователей по сумме отправленных/полученных средств\n",
    "# Задача: Проранжировать пользователей по общей сумме отправленных и полученных средств.\n",
    "def top_five():\n",
    "    d = {}\n",
    "    for i in file1:\n",
    "        cur = kurs[currencies[i[4]]]\n",
    "        d[users[i[1]]]= d.get(users[i[1]], {'sent':0, 'received':0}) \n",
    "        d[users[i[1]]]['sent'] += int(i[3])*cur\n",
    "        d[users[i[2]]]= d.get(users[i[2]], {'sent':0, 'received':0}) \n",
    "        d[users[i[2]]]['received'] -= int(i[3])*cur\n",
    "    by_sent = sorted(d.items(), key=lambda x: x[1]['sent'], reverse = True)\n",
    "    by_rec = sorted(d.items(), key=lambda x: x[1]['received'])\n",
    "    return f\"Most sent: {by_sent}\\nMost received: {by_rec}\"\n",
    "# print(top_five())\n",
    "# 3. Объем транзакций по датам\n",
    "# Задача: Подсчитать количество транзакций и их общую сумму для каждой даты.\n",
    "def time_count():\n",
    "    d = defaultdict(int)\n",
    "    text = ''\n",
    "    for i in file1:\n",
    "        dt_object = datetime.fromtimestamp(int(i[0]))\n",
    "        human_readable = dt_object.strftime('%Y-%m-%d')  # Change format as needed\n",
    "        d[human_readable]+=1\n",
    "    for i in d:\n",
    "        text+= f'{i}: {d[i]}\\n'\n",
    "    return text\n",
    "# print(time_count())\n",
    "# 4. Отчет по средней сумме транзакции\n",
    "# Задача: Рассчитать среднюю сумму каждой транзакции для всех пользователей.\n",
    "def average():\n",
    "    d = {}\n",
    "    d2 = {}\n",
    "    for i in file1:\n",
    "        cur = kurs[currencies[i[4]]]*float(i[3])\n",
    "        d[users[i[1]]]= d.get(users[i[1]], {'sum':0, 'count':0}) \n",
    "        d[users[i[1]]]['sum'] += cur\n",
    "        d[users[i[1]]]['count']+=1\n",
    "    for i in d:\n",
    "        d2[i] =d[i]['sum']/d[i]['count']\n",
    "    return d2\n",
    "# print(average())\n",
    "\n",
    "# 5. Отчет по активным пользователям\n",
    "# Задача: Определить, кто из пользователей совершил больше всего транзакций.\n",
    "def top():\n",
    "    d = {}\n",
    "    for i in file1:\n",
    "        d[users[i[1]]]= d.get(users[i[1]], 0) +1\n",
    "    v = sorted(d.items(),  key=lambda x: x[1], reverse=True)\n",
    "    return f\"{v[1]}\"\n",
    "\n",
    "# print(top())\n",
    "\n",
    "# 6. Отчет по наибольшей сумме транзакции\n",
    "# Задача: Найти транзакции с самой высокой суммой и показать информацию о них.\n",
    "from time import time\n",
    "def max_tran():\n",
    "    c = []\n",
    "    for date,from_id,to_id,amo,cid in file1:\n",
    "        amount = kurs[currencies[cid]]*float(amo)\n",
    "        m = [amount,date,users[from_id],users[to_id],currencies[cid],amo]\n",
    "        if len(c)<=10:\n",
    "            c.append(m)\n",
    "        else:\n",
    "            mn = min(c)\n",
    "            if mn<m:\n",
    "                c.remove(mn)\n",
    "                c.append(m)\n",
    "    text = ''\n",
    "    for i in c:\n",
    "        text+=f\"{i}\\n\"\n",
    "    return text\n",
    "\n",
    "# print(max_tran())\n",
    "# 7. Отчет по самому активному дню\n",
    "# Задача: Определить день с наибольшим количеством транзакций и общей суммой операций.\n",
    "def time_count():\n",
    "    d = defaultdict(int)\n",
    "    text = ''\n",
    "    for i in file1:\n",
    "        dt_object = datetime.fromtimestamp(int(i[0]))\n",
    "        human = dt_object.strftime('%Y-%m-%d')  # Change format as needed\n",
    "        d[human]+=1\n",
    "    v = sorted(d.items(), key = lambda x:x[1], reverse = True)\n",
    "    for i in v:\n",
    "        return i\n",
    "# print(time_count())\n",
    "\n",
    "# 8. Отчет по пользователям, совершившим транзакции только в одной валюте\n",
    "# Задача: Найти пользователей, которые совершали транзакции только в одной валюте, и подсчитать суммы.\n",
    "def users_kurs():\n",
    "    d = defaultdict(dict)\n",
    "    arr = []\n",
    "    for i in file1:\n",
    "        d[users[i[1]]][currencies[i[4]]] = d[users[i[1]]].get(currencies[i[4]], 0)\n",
    "        d[users[i[1]]][currencies[i[4]]] += float(i[3])\n",
    "    for i in d:\n",
    "        if len(d[i]) == 1:\n",
    "            arr.append(i)\n",
    "    if len(arr)>0:\n",
    "        return arr\n",
    "    return \"No person had transactions in only one value\"\n",
    "# print(users_kurs())\n",
    "\n",
    "# 9. Отчет по минимальной сумме транзакции\n",
    "# Задача: Найти транзакции с самой низкой суммой и показать информацию о них.\n",
    "def min_tran():\n",
    "    m = {}\n",
    "    c = 0\n",
    "    for date,from_id,to_id,amo,cid in file1:\n",
    "        amount = kurs[currencies[cid]]*float(amo)\n",
    "        m[c] = m.get(c,[date,users[from_id],users[to_id],amount,currencies[cid],amo])\n",
    "        if m[c][3]>amount:\n",
    "            m[c] = [date,users[from_id],users[to_id],amount,currencies[cid],amo]\n",
    "        else:\n",
    "            max_key = min(m, key=lambda k: m[k][3])\n",
    "            if m[max_key][3]>amount:\n",
    "                m[max_key] = [date,users[from_id],users[to_id],amount,currencies[cid],amo] \n",
    "        c+=1\n",
    "        if c>4:\n",
    "            c = 0\n",
    "    return m\n",
    "# start = time()\n",
    "# print(min_tran())\n",
    "# end = time()\n",
    "# print(end-start)\n",
    "# 10. Отчет по пользователям с равными суммами отправленных и полученных средств\n",
    "# Задача: Найти пользователей, у которых общие суммы отправленных и полученных средств равны\n",
    "def otchet():\n",
    "    d = {}\n",
    "    arr = []\n",
    "    for i in file1:\n",
    "        cur = kurs[currencies[i[4]]]*float(i[3])\n",
    "        d[users[i[1]]]= d.get(users[i[1]], {'sent':0, 'received':0}) \n",
    "        d[users[i[1]]]['sent'] += cur\n",
    "        d[users[i[2]]]= d.get(users[i[2]], {'sent':0, 'received':0}) \n",
    "        d[users[i[2]]]['received'] += cur\n",
    "    for i in d:\n",
    "        if d[i]['sent']==d[i]['received']:\n",
    "            arr.append(i)\n",
    "    if len(arr)>0:\n",
    "        return arr\n",
    "    return \"No user like that\"\n",
    "# print(otchet())"
   ]
  },
  {
   "cell_type": "code",
   "execution_count": null,
   "metadata": {},
   "outputs": [],
   "source": []
  }
 ],
 "metadata": {
  "kernelspec": {
   "display_name": "Python 3",
   "language": "python",
   "name": "python3"
  },
  "language_info": {
   "codemirror_mode": {
    "name": "ipython",
    "version": 3
   },
   "file_extension": ".py",
   "mimetype": "text/x-python",
   "name": "python",
   "nbconvert_exporter": "python",
   "pygments_lexer": "ipython3",
   "version": "3.12.6"
  }
 },
 "nbformat": 4,
 "nbformat_minor": 2
}
